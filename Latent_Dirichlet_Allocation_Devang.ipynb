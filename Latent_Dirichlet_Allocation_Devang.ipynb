{
  "nbformat": 4,
  "nbformat_minor": 0,
  "metadata": {
    "kernelspec": {
      "display_name": "Python 3",
      "language": "python",
      "name": "python3"
    },
    "language_info": {
      "codemirror_mode": {
        "name": "ipython",
        "version": 3
      },
      "file_extension": ".py",
      "mimetype": "text/x-python",
      "name": "python",
      "nbconvert_exporter": "python",
      "pygments_lexer": "ipython3",
      "version": "3.6.12"
    },
    "colab": {
      "name": "Latent_Dirichlet_Allocation_Devang.ipynb",
      "provenance": []
    }
  },
  "cells": [
    {
      "cell_type": "markdown",
      "metadata": {
        "id": "Ue5CBvjpcUWE"
      },
      "source": [
        "## Latent Dirichlet Allocation ##\n",
        "**Watch these videos:**\n",
        "- https://www.youtube.com/watch?v=azXCzI57Yfc\n",
        "- https://www.youtube.com/watch?v=T05t-SqKArY\n",
        "- https://www.youtube.com/watch?v=BaM1uiCpj_E\n",
        "\n",
        "LDA is used to classify text in a document to a particular topic. It builds a topic per document model and words per topic model, modeled as Dirichlet distributions. \n",
        "\n",
        "* Each document is modeled as a multinomial distribution of topics and each topic is modeled as a multinomial distribution of words.\n",
        "* LDA assumes that the every chunk of text we feed into it will contain words that are somehow related. Therefore choosing the right corpus of data is crucial. \n",
        "* It also assumes documents are produced from a mixture of topics. Those topics then generate words based on their probability distribution. "
      ]
    },
    {
      "cell_type": "markdown",
      "metadata": {
        "id": "qpMB-Ta1cUWR"
      },
      "source": [
        "## Step 1: Load the dataset\n",
        "\n",
        "The dataset we'll use is a list of over one million news headlines published over a period of 15 years. We'll start by loading it from the `abcnews-date-text.csv` file."
      ]
    },
    {
      "cell_type": "code",
      "metadata": {
        "colab": {
          "base_uri": "https://localhost:8080/"
        },
        "id": "9N9GuQ_MdWWk",
        "outputId": "6a73a0a2-8918-487e-f90c-1c0eab45a4ed"
      },
      "source": [
        "from google.colab import drive\n",
        "drive.mount('/content/drive')"
      ],
      "execution_count": 24,
      "outputs": [
        {
          "output_type": "stream",
          "name": "stdout",
          "text": [
            "Drive already mounted at /content/drive; to attempt to forcibly remount, call drive.mount(\"/content/drive\", force_remount=True).\n"
          ]
        }
      ]
    },
    {
      "cell_type": "code",
      "metadata": {
        "colab": {
          "base_uri": "https://localhost:8080/",
          "height": 206
        },
        "id": "Q1ytZwQdcUWS",
        "outputId": "febecf5d-a8eb-4f5a-f98b-2540c9bd00eb"
      },
      "source": [
        "'''\n",
        "Load the dataset from the CSV and save it to 'data_text'. We only need the'headline_text' column,\n",
        "so drop the rest of the columns. Call the final dataframe \"documents\" \n",
        "Then, add an 'index' column to the dataframe. Be sure to name it index.\n",
        "Hint: dataframe.index\n",
        "'''\n",
        "import pandas as pd\n",
        "data_text = pd.read_csv('/content/drive/MyDrive/Synapse_LP/Week 2 NLP (Week 7)/abcnews-date-text.csv')\n",
        "data_text.drop(['publish_date'],  axis=1, inplace=True)\n",
        "documents = data_text\n",
        "documents['index'] = documents.index\n",
        "\n",
        "documents.head()"
      ],
      "execution_count": 25,
      "outputs": [
        {
          "output_type": "execute_result",
          "data": {
            "text/html": [
              "<div>\n",
              "<style scoped>\n",
              "    .dataframe tbody tr th:only-of-type {\n",
              "        vertical-align: middle;\n",
              "    }\n",
              "\n",
              "    .dataframe tbody tr th {\n",
              "        vertical-align: top;\n",
              "    }\n",
              "\n",
              "    .dataframe thead th {\n",
              "        text-align: right;\n",
              "    }\n",
              "</style>\n",
              "<table border=\"1\" class=\"dataframe\">\n",
              "  <thead>\n",
              "    <tr style=\"text-align: right;\">\n",
              "      <th></th>\n",
              "      <th>headline_text</th>\n",
              "      <th>index</th>\n",
              "    </tr>\n",
              "  </thead>\n",
              "  <tbody>\n",
              "    <tr>\n",
              "      <th>0</th>\n",
              "      <td>aba decides against community broadcasting lic...</td>\n",
              "      <td>0</td>\n",
              "    </tr>\n",
              "    <tr>\n",
              "      <th>1</th>\n",
              "      <td>act fire witnesses must be aware of defamation</td>\n",
              "      <td>1</td>\n",
              "    </tr>\n",
              "    <tr>\n",
              "      <th>2</th>\n",
              "      <td>a g calls for infrastructure protection summit</td>\n",
              "      <td>2</td>\n",
              "    </tr>\n",
              "    <tr>\n",
              "      <th>3</th>\n",
              "      <td>air nz staff in aust strike for pay rise</td>\n",
              "      <td>3</td>\n",
              "    </tr>\n",
              "    <tr>\n",
              "      <th>4</th>\n",
              "      <td>air nz strike to affect australian travellers</td>\n",
              "      <td>4</td>\n",
              "    </tr>\n",
              "  </tbody>\n",
              "</table>\n",
              "</div>"
            ],
            "text/plain": [
              "                                       headline_text  index\n",
              "0  aba decides against community broadcasting lic...      0\n",
              "1     act fire witnesses must be aware of defamation      1\n",
              "2     a g calls for infrastructure protection summit      2\n",
              "3           air nz staff in aust strike for pay rise      3\n",
              "4      air nz strike to affect australian travellers      4"
            ]
          },
          "metadata": {},
          "execution_count": 25
        }
      ]
    },
    {
      "cell_type": "markdown",
      "metadata": {
        "id": "XIRaKByhcUWU"
      },
      "source": [
        "Let's glance at the dataset:"
      ]
    },
    {
      "cell_type": "code",
      "metadata": {
        "colab": {
          "base_uri": "https://localhost:8080/"
        },
        "id": "hHyfrm5scUWV",
        "outputId": "17a4672d-08e8-4ed6-dcb6-fdcfa4c61e24"
      },
      "source": [
        "'''\n",
        "print the total number of documents\n",
        "'''\n",
        "print(len(documents))"
      ],
      "execution_count": 26,
      "outputs": [
        {
          "output_type": "stream",
          "name": "stdout",
          "text": [
            "1103665\n"
          ]
        }
      ]
    },
    {
      "cell_type": "code",
      "metadata": {
        "colab": {
          "base_uri": "https://localhost:8080/",
          "height": 206
        },
        "id": "dHOTTpLzcUWW",
        "outputId": "df44ab41-5c9b-4468-d137-f2c7507a3b9a"
      },
      "source": [
        "documents[:5]"
      ],
      "execution_count": 27,
      "outputs": [
        {
          "output_type": "execute_result",
          "data": {
            "text/html": [
              "<div>\n",
              "<style scoped>\n",
              "    .dataframe tbody tr th:only-of-type {\n",
              "        vertical-align: middle;\n",
              "    }\n",
              "\n",
              "    .dataframe tbody tr th {\n",
              "        vertical-align: top;\n",
              "    }\n",
              "\n",
              "    .dataframe thead th {\n",
              "        text-align: right;\n",
              "    }\n",
              "</style>\n",
              "<table border=\"1\" class=\"dataframe\">\n",
              "  <thead>\n",
              "    <tr style=\"text-align: right;\">\n",
              "      <th></th>\n",
              "      <th>headline_text</th>\n",
              "      <th>index</th>\n",
              "    </tr>\n",
              "  </thead>\n",
              "  <tbody>\n",
              "    <tr>\n",
              "      <th>0</th>\n",
              "      <td>aba decides against community broadcasting lic...</td>\n",
              "      <td>0</td>\n",
              "    </tr>\n",
              "    <tr>\n",
              "      <th>1</th>\n",
              "      <td>act fire witnesses must be aware of defamation</td>\n",
              "      <td>1</td>\n",
              "    </tr>\n",
              "    <tr>\n",
              "      <th>2</th>\n",
              "      <td>a g calls for infrastructure protection summit</td>\n",
              "      <td>2</td>\n",
              "    </tr>\n",
              "    <tr>\n",
              "      <th>3</th>\n",
              "      <td>air nz staff in aust strike for pay rise</td>\n",
              "      <td>3</td>\n",
              "    </tr>\n",
              "    <tr>\n",
              "      <th>4</th>\n",
              "      <td>air nz strike to affect australian travellers</td>\n",
              "      <td>4</td>\n",
              "    </tr>\n",
              "  </tbody>\n",
              "</table>\n",
              "</div>"
            ],
            "text/plain": [
              "                                       headline_text  index\n",
              "0  aba decides against community broadcasting lic...      0\n",
              "1     act fire witnesses must be aware of defamation      1\n",
              "2     a g calls for infrastructure protection summit      2\n",
              "3           air nz staff in aust strike for pay rise      3\n",
              "4      air nz strike to affect australian travellers      4"
            ]
          },
          "metadata": {},
          "execution_count": 27
        }
      ]
    },
    {
      "cell_type": "markdown",
      "metadata": {
        "id": "ebkxWlZXcUWX"
      },
      "source": [
        "## Step 2: Data Preprocessing ##\n",
        "\n",
        "We will perform the following steps:\n",
        "\n",
        "* **Tokenization**: Split the text into sentences and the sentences into words. Lowercase the words and remove punctuation.\n",
        "* Words that have fewer than 3 characters are removed.\n",
        "* All **stopwords** are removed.\n",
        "* Words are **lemmatized** - words in third person are changed to first person and verbs in past and future tenses are changed into present.\n",
        "* Words are **stemmed** - words are reduced to their root form.\n",
        "\n",
        "This time, we'll make use of the gensim library and show you how  to preprocess text easily. "
      ]
    },
    {
      "cell_type": "code",
      "metadata": {
        "id": "oSBeN4tacUWY"
      },
      "source": [
        "'''\n",
        "Loading Gensim and nltk libraries\n",
        "'''\n",
        "# pip install gensim\n",
        "import gensim\n",
        "from gensim.utils import simple_preprocess\n",
        "from gensim.parsing.preprocessing import STOPWORDS\n",
        "from nltk.stem import WordNetLemmatizer, SnowballStemmer\n",
        "from nltk.stem.porter import *\n",
        "import numpy as np\n",
        "np.random.seed(400)"
      ],
      "execution_count": 28,
      "outputs": []
    },
    {
      "cell_type": "code",
      "metadata": {
        "colab": {
          "base_uri": "https://localhost:8080/"
        },
        "id": "XfZPkpxXcUWZ",
        "outputId": "6d5b389d-20d6-4b5b-c4e6-29e146524e16"
      },
      "source": [
        "import nltk\n",
        "nltk.download('wordnet')"
      ],
      "execution_count": 29,
      "outputs": [
        {
          "output_type": "stream",
          "name": "stdout",
          "text": [
            "[nltk_data] Downloading package wordnet to /root/nltk_data...\n",
            "[nltk_data]   Package wordnet is already up-to-date!\n"
          ]
        },
        {
          "output_type": "execute_result",
          "data": {
            "text/plain": [
              "True"
            ]
          },
          "metadata": {},
          "execution_count": 29
        }
      ]
    },
    {
      "cell_type": "markdown",
      "metadata": {
        "id": "ZLEHR6LGcUWa"
      },
      "source": [
        "### Lemmatizer Example\n",
        "Before preprocessing our dataset, let's first look at an lemmatizing example. What would be the output if we lemmatized the word 'went':"
      ]
    },
    {
      "cell_type": "code",
      "metadata": {
        "colab": {
          "base_uri": "https://localhost:8080/"
        },
        "id": "25-eAsNacUWa",
        "outputId": "47d3cb93-c834-43fa-d6b2-0da86ad273d0"
      },
      "source": [
        "print(WordNetLemmatizer().lemmatize('went', pos = 'v')) # past tense to present tense"
      ],
      "execution_count": 30,
      "outputs": [
        {
          "output_type": "stream",
          "name": "stdout",
          "text": [
            "go\n"
          ]
        }
      ]
    },
    {
      "cell_type": "markdown",
      "metadata": {
        "id": "u5-0it6IcUWb"
      },
      "source": [
        "### Stemmer Example\n",
        "Let's also look at a stemming example. Let's throw a number of words at the stemmer and see how it deals with each one:"
      ]
    },
    {
      "cell_type": "code",
      "metadata": {
        "colab": {
          "base_uri": "https://localhost:8080/",
          "height": 645
        },
        "id": "URsyPeBTcUWb",
        "outputId": "02ac6f19-b15f-498f-afa6-09966256ac99"
      },
      "source": [
        "stemmer = SnowballStemmer(\"english\")\n",
        "original_words = ['caresses', 'flies', 'dies', 'mules', 'denied','died', 'agreed', 'owned', \n",
        "           'humbled', 'sized','meeting', 'stating', 'siezing', 'itemization','sensational', \n",
        "           'traditional', 'reference', 'colonizer','plotted']\n",
        "singles = [stemmer.stem(plural) for plural in original_words]\n",
        "\n",
        "pd.DataFrame(data={'original word':original_words, 'stemmed':singles })"
      ],
      "execution_count": 31,
      "outputs": [
        {
          "output_type": "execute_result",
          "data": {
            "text/html": [
              "<div>\n",
              "<style scoped>\n",
              "    .dataframe tbody tr th:only-of-type {\n",
              "        vertical-align: middle;\n",
              "    }\n",
              "\n",
              "    .dataframe tbody tr th {\n",
              "        vertical-align: top;\n",
              "    }\n",
              "\n",
              "    .dataframe thead th {\n",
              "        text-align: right;\n",
              "    }\n",
              "</style>\n",
              "<table border=\"1\" class=\"dataframe\">\n",
              "  <thead>\n",
              "    <tr style=\"text-align: right;\">\n",
              "      <th></th>\n",
              "      <th>original word</th>\n",
              "      <th>stemmed</th>\n",
              "    </tr>\n",
              "  </thead>\n",
              "  <tbody>\n",
              "    <tr>\n",
              "      <th>0</th>\n",
              "      <td>caresses</td>\n",
              "      <td>caress</td>\n",
              "    </tr>\n",
              "    <tr>\n",
              "      <th>1</th>\n",
              "      <td>flies</td>\n",
              "      <td>fli</td>\n",
              "    </tr>\n",
              "    <tr>\n",
              "      <th>2</th>\n",
              "      <td>dies</td>\n",
              "      <td>die</td>\n",
              "    </tr>\n",
              "    <tr>\n",
              "      <th>3</th>\n",
              "      <td>mules</td>\n",
              "      <td>mule</td>\n",
              "    </tr>\n",
              "    <tr>\n",
              "      <th>4</th>\n",
              "      <td>denied</td>\n",
              "      <td>deni</td>\n",
              "    </tr>\n",
              "    <tr>\n",
              "      <th>5</th>\n",
              "      <td>died</td>\n",
              "      <td>die</td>\n",
              "    </tr>\n",
              "    <tr>\n",
              "      <th>6</th>\n",
              "      <td>agreed</td>\n",
              "      <td>agre</td>\n",
              "    </tr>\n",
              "    <tr>\n",
              "      <th>7</th>\n",
              "      <td>owned</td>\n",
              "      <td>own</td>\n",
              "    </tr>\n",
              "    <tr>\n",
              "      <th>8</th>\n",
              "      <td>humbled</td>\n",
              "      <td>humbl</td>\n",
              "    </tr>\n",
              "    <tr>\n",
              "      <th>9</th>\n",
              "      <td>sized</td>\n",
              "      <td>size</td>\n",
              "    </tr>\n",
              "    <tr>\n",
              "      <th>10</th>\n",
              "      <td>meeting</td>\n",
              "      <td>meet</td>\n",
              "    </tr>\n",
              "    <tr>\n",
              "      <th>11</th>\n",
              "      <td>stating</td>\n",
              "      <td>state</td>\n",
              "    </tr>\n",
              "    <tr>\n",
              "      <th>12</th>\n",
              "      <td>siezing</td>\n",
              "      <td>siez</td>\n",
              "    </tr>\n",
              "    <tr>\n",
              "      <th>13</th>\n",
              "      <td>itemization</td>\n",
              "      <td>item</td>\n",
              "    </tr>\n",
              "    <tr>\n",
              "      <th>14</th>\n",
              "      <td>sensational</td>\n",
              "      <td>sensat</td>\n",
              "    </tr>\n",
              "    <tr>\n",
              "      <th>15</th>\n",
              "      <td>traditional</td>\n",
              "      <td>tradit</td>\n",
              "    </tr>\n",
              "    <tr>\n",
              "      <th>16</th>\n",
              "      <td>reference</td>\n",
              "      <td>refer</td>\n",
              "    </tr>\n",
              "    <tr>\n",
              "      <th>17</th>\n",
              "      <td>colonizer</td>\n",
              "      <td>colon</td>\n",
              "    </tr>\n",
              "    <tr>\n",
              "      <th>18</th>\n",
              "      <td>plotted</td>\n",
              "      <td>plot</td>\n",
              "    </tr>\n",
              "  </tbody>\n",
              "</table>\n",
              "</div>"
            ],
            "text/plain": [
              "   original word stemmed\n",
              "0       caresses  caress\n",
              "1          flies     fli\n",
              "2           dies     die\n",
              "3          mules    mule\n",
              "4         denied    deni\n",
              "5           died     die\n",
              "6         agreed    agre\n",
              "7          owned     own\n",
              "8        humbled   humbl\n",
              "9          sized    size\n",
              "10       meeting    meet\n",
              "11       stating   state\n",
              "12       siezing    siez\n",
              "13   itemization    item\n",
              "14   sensational  sensat\n",
              "15   traditional  tradit\n",
              "16     reference   refer\n",
              "17     colonizer   colon\n",
              "18       plotted    plot"
            ]
          },
          "metadata": {},
          "execution_count": 31
        }
      ]
    },
    {
      "cell_type": "code",
      "metadata": {
        "id": "UZvAAowycUWc"
      },
      "source": [
        "'''\n",
        "Write a function to perform the pre processing steps on the entire dataset\n",
        "'''\n",
        "def lemmatize_stemming(text):\n",
        "    '''\n",
        "        1) Lemmatize the text\n",
        "        2) Then, stem the text\n",
        "        3) return final text\n",
        "    '''\n",
        "    final_text = SnowballStemmer(\"english\").stem(WordNetLemmatizer().lemmatize(text))\n",
        "    return final_text\n",
        "\n",
        "\n",
        "# Tokenize and lemmatize. Look up how preprocessing is being done\n",
        "def preprocess(text):\n",
        "    result=[]\n",
        "    for token in gensim.utils.simple_preprocess(text) :\n",
        "        if token not in gensim.parsing.preprocessing.STOPWORDS and len(token) > 3:\n",
        "            # TODO: Apply lemmatize_stemming on the token, then add to the results list\n",
        "            result.append(lemmatize_stemming(token))\n",
        "    return result"
      ],
      "execution_count": 34,
      "outputs": []
    },
    {
      "cell_type": "code",
      "metadata": {
        "colab": {
          "base_uri": "https://localhost:8080/"
        },
        "id": "Ey5s7no_cUWd",
        "outputId": "2de51582-d74d-4910-cdbf-039add29efab"
      },
      "source": [
        "'''\n",
        "Preview a document after preprocessing\n",
        "'''\n",
        "document_num = 4310\n",
        "doc_sample = documents[documents['index'] == document_num].values[0][0]\n",
        "\n",
        "print(\"Original document: \")\n",
        "words = []\n",
        "for word in doc_sample.split(' '):\n",
        "    words.append(word)\n",
        "print(words)\n",
        "print(\"\\n\\nTokenized and lemmatized document: \")\n",
        "print(preprocess(doc_sample))"
      ],
      "execution_count": 35,
      "outputs": [
        {
          "output_type": "stream",
          "name": "stdout",
          "text": [
            "Original document: \n",
            "['rain', 'helps', 'dampen', 'bushfires']\n",
            "\n",
            "\n",
            "Tokenized and lemmatized document: \n",
            "['rain', 'help', 'dampen', 'bushfir']\n"
          ]
        }
      ]
    },
    {
      "cell_type": "markdown",
      "metadata": {
        "id": "sUPXUqoEcUWd"
      },
      "source": [
        "Let's now preprocess all the news headlines we have. To do that, let's use the [map](https://pandas.pydata.org/pandas-docs/stable/generated/pandas.Series.map.html) function from pandas to apply `preprocess()` to the `headline_text` column\n",
        "\n",
        "**Note**: This may take a few minutes"
      ]
    },
    {
      "cell_type": "code",
      "metadata": {
        "id": "2wNd_J4McUWe"
      },
      "source": [
        "# TODO: preprocess all the headlines, saving the list of results as 'processed_docs'\n",
        "processed_docs = documents['headline_text'].map(preprocess)"
      ],
      "execution_count": 36,
      "outputs": []
    },
    {
      "cell_type": "code",
      "metadata": {
        "colab": {
          "base_uri": "https://localhost:8080/"
        },
        "id": "Nb8Jf9KCcUWe",
        "outputId": "7fdb071d-46e6-475b-888d-347e6200cc20"
      },
      "source": [
        "'''\n",
        "Preview 'processed_docs'\n",
        "'''\n",
        "processed_docs[:10]"
      ],
      "execution_count": 37,
      "outputs": [
        {
          "output_type": "execute_result",
          "data": {
            "text/plain": [
              "0            [decid, communiti, broadcast, licenc]\n",
              "1                               [wit, awar, defam]\n",
              "2           [call, infrastructur, protect, summit]\n",
              "3                      [staff, aust, strike, rise]\n",
              "4             [strike, affect, australian, travel]\n",
              "5               [ambiti, olsson, win, tripl, jump]\n",
              "6           [antic, delight, record, break, barca]\n",
              "7    [aussi, qualifi, stosur, wast, memphi, match]\n",
              "8            [aust, address, secur, council, iraq]\n",
              "9                         [australia, lock, timet]\n",
              "Name: headline_text, dtype: object"
            ]
          },
          "metadata": {},
          "execution_count": 37
        }
      ]
    },
    {
      "cell_type": "markdown",
      "metadata": {
        "id": "jGEN2IlWcUWe"
      },
      "source": [
        "## Step 3.1: Bag of words on the dataset\n",
        "\n",
        "Now let's create a dictionary from 'processed_docs' containing the number of times a word appears in the training set. To do that, let's pass `processed_docs` to [`gensim.corpora.Dictionary()`](https://radimrehurek.com/gensim/corpora/dictionary.html) and call it '`dictionary`'."
      ]
    },
    {
      "cell_type": "code",
      "metadata": {
        "id": "8U9DGtNNcUWf"
      },
      "source": [
        "'''\n",
        "Create a dictionary from 'processed_docs' containing the number of times a word appears \n",
        "in the training set using gensim.corpora.Dictionary and call it 'dictionary'\n",
        "'''\n",
        "#  Todo\n",
        "dictionary = gensim.corpora.Dictionary(processed_docs)"
      ],
      "execution_count": 38,
      "outputs": []
    },
    {
      "cell_type": "code",
      "metadata": {
        "colab": {
          "base_uri": "https://localhost:8080/"
        },
        "id": "O167cptecUWg",
        "outputId": "0e4e4679-46d9-49e1-da6c-58d96c6f4b6e"
      },
      "source": [
        "'''\n",
        "Checking dictionary created\n",
        "'''\n",
        "count = 0\n",
        "for k, v in dictionary.iteritems():\n",
        "    print(k, v)\n",
        "    count += 1\n",
        "    if count > 10:\n",
        "        break"
      ],
      "execution_count": 39,
      "outputs": [
        {
          "output_type": "stream",
          "name": "stdout",
          "text": [
            "0 broadcast\n",
            "1 communiti\n",
            "2 decid\n",
            "3 licenc\n",
            "4 awar\n",
            "5 defam\n",
            "6 wit\n",
            "7 call\n",
            "8 infrastructur\n",
            "9 protect\n",
            "10 summit\n"
          ]
        }
      ]
    },
    {
      "cell_type": "markdown",
      "metadata": {
        "id": "svVonn5LcUWg"
      },
      "source": [
        "** Gensim filter_extremes **\n",
        "\n",
        "[`filter_extremes(no_below=5, no_above=0.5, keep_n=100000)`](https://radimrehurek.com/gensim/corpora/dictionary.html#gensim.corpora.dictionary.Dictionary.filter_extremes)\n",
        "\n",
        "Filter out tokens that appear in\n",
        "\n",
        "* less than no_below documents (absolute number) or\n",
        "* more than no_above documents (fraction of total corpus size, not absolute number).\n",
        "* after (1) and (2), keep only the first keep_n most frequent tokens (or keep all if None)."
      ]
    },
    {
      "cell_type": "code",
      "metadata": {
        "id": "ysohYtancUWg"
      },
      "source": [
        "'''\n",
        "Remove very rare and very common words:\n",
        "\n",
        "- words appearing less than 15 times\n",
        "- words appearing in more than 10% of all documents\n",
        "- keep 100000 most frequent tokens\n",
        "'''\n",
        "# TODO: apply dictionary.filter_extremes() with the parameters mentioned above\n",
        "dictionary.filter_extremes(no_below = 15, no_above=0.1, keep_n = 100000)"
      ],
      "execution_count": 40,
      "outputs": []
    },
    {
      "cell_type": "markdown",
      "metadata": {
        "id": "addG2wAJcUWh"
      },
      "source": [
        "** Gensim doc2bow **\n",
        "\n",
        "[`doc2bow(document)`](https://radimrehurek.com/gensim/corpora/dictionary.html#gensim.corpora.dictionary.Dictionary.doc2bow)\n",
        "\n",
        "* Convert document (a list of words) into the bag-of-words format = list of (token_id, token_count) 2-tuples. Each word is assumed to be a tokenized and normalized string (either unicode or utf8-encoded). No further preprocessing is done on the words in document; apply tokenization, stemming etc. before calling this method."
      ]
    },
    {
      "cell_type": "code",
      "metadata": {
        "id": "1PdLOtfEcUWh"
      },
      "source": [
        "'''\n",
        "Create the Bag-of-words model for each document i.e for each document we create a dictionary reporting how many\n",
        "words and how many times those words appear. Save this to 'bow_corpus'.\n",
        "Hint: Since we want a BoW model for each document, you can use list comprehension instead of for loops. List\n",
        "comprehension is the more pythonic way.\n",
        "'''\n",
        "#  Todo:\n",
        "bow_corpus = [dictionary.doc2bow(d) for d in processed_docs]\n"
      ],
      "execution_count": 41,
      "outputs": []
    },
    {
      "cell_type": "code",
      "metadata": {
        "colab": {
          "base_uri": "https://localhost:8080/"
        },
        "id": "Ziu01M8FcUWh",
        "outputId": "147988ce-f965-4a54-c8cf-f823b5bdccd2"
      },
      "source": [
        "'''\n",
        "Checking Bag of Words corpus for our sample document --> (token_id, token_count)\n",
        "'''\n",
        "bow_corpus[document_num]"
      ],
      "execution_count": 42,
      "outputs": [
        {
          "output_type": "execute_result",
          "data": {
            "text/plain": [
              "[(76, 1), (112, 1), (486, 1), (4041, 1)]"
            ]
          },
          "metadata": {},
          "execution_count": 42
        }
      ]
    },
    {
      "cell_type": "code",
      "metadata": {
        "colab": {
          "base_uri": "https://localhost:8080/"
        },
        "id": "GI0EuymwcUWh",
        "outputId": "94e78faf-ab07-4095-b5f5-63b837766b83"
      },
      "source": [
        "'''\n",
        "Preview BOW for our sample preprocessed document\n",
        "'''\n",
        "# Here document_num is document number 4310 which we have checked in Step 2\n",
        "bow_doc_4310 = bow_corpus[document_num]\n",
        "\n",
        "for i in range(len(bow_doc_4310)):\n",
        "    print(\"Word {} (\\\"{}\\\") appears {} time.\".format(bow_doc_4310[i][0], \n",
        "                                                     dictionary[bow_doc_4310[i][0]], \n",
        "                                                     bow_doc_4310[i][1]))"
      ],
      "execution_count": 43,
      "outputs": [
        {
          "output_type": "stream",
          "name": "stdout",
          "text": [
            "Word 76 (\"bushfir\") appears 1 time.\n",
            "Word 112 (\"help\") appears 1 time.\n",
            "Word 486 (\"rain\") appears 1 time.\n",
            "Word 4041 (\"dampen\") appears 1 time.\n"
          ]
        }
      ]
    },
    {
      "cell_type": "markdown",
      "metadata": {
        "id": "mkQMotZacUWi"
      },
      "source": [
        "## Step 3.2: TF-IDF on our document set ##\n",
        "\n",
        "While performing TF-IDF on the corpus is not necessary for LDA implemention using the gensim model, it is recemmended. TF-IDF expects a bag-of-words (integer values) training corpus during initialization. During transformation, it will take a vector and return another vector of the same dimensionality.\n",
        "\n",
        "*Please note: The author of Gensim dictates the standard procedure for LDA to be using the Bag of Words model.*"
      ]
    },
    {
      "cell_type": "markdown",
      "metadata": {
        "id": "bTS19JR5cUWi"
      },
      "source": [
        "** TF-IDF stands for \"Term Frequency, Inverse Document Frequency\".**\n",
        "\n",
        "* It is a way to score the importance of words (or \"terms\") in a document based on how frequently they appear across multiple documents.\n",
        "* If a word appears frequently in a document, it's important. Give the word a high score. But if a word appears in many documents, it's not a unique identifier. Give the word a low score.\n",
        "* Therefore, common words like \"the\" and \"for\", which appear in many documents, will be scaled down. Words that appear frequently in a single document will be scaled up.\n",
        "\n",
        "In other words:\n",
        "\n",
        "* TF(w) = `(Number of times term w appears in a document) / (Total number of terms in the document)`.\n",
        "* IDF(w) = `log_e(Total number of documents / Number of documents with term w in it)`.\n",
        "\n",
        "** For example **\n",
        "\n",
        "* Consider a document containing `100` words wherein the word 'tiger' appears 3 times. \n",
        "* The term frequency (i.e., tf) for 'tiger' is then: \n",
        "    - `TF = (3 / 100) = 0.03`. \n",
        "\n",
        "* Now, assume we have `10 million` documents and the word 'tiger' appears in `1000` of these. Then, the inverse document frequency (i.e., idf) is calculated as:\n",
        "    - `IDF = log(10,000,000 / 1,000) = 4`. \n",
        "\n",
        "* Thus, the Tf-idf weight is the product of these quantities: \n",
        "    - `TF-IDF = 0.03 * 4 = 0.12`."
      ]
    },
    {
      "cell_type": "code",
      "metadata": {
        "id": "18WD7H4ScUWi"
      },
      "source": [
        "'''\n",
        "Create tf-idf model object using models.TfidfModel on 'bow_corpus' and save it to 'tfidf'\n",
        "'''\n",
        "from gensim import corpora, models\n",
        "# TODO\n",
        "tfidf = models.TfidfModel(bow_corpus)"
      ],
      "execution_count": 44,
      "outputs": []
    },
    {
      "cell_type": "code",
      "metadata": {
        "id": "4oKnt2GxcUWi"
      },
      "source": [
        "'''\n",
        "Apply transformation to the entire corpus and call it 'corpus_tfidf'\n",
        "'''\n",
        "# TODO\n",
        "corpus_tfidf = tfidf[bow_corpus]"
      ],
      "execution_count": 45,
      "outputs": []
    },
    {
      "cell_type": "code",
      "metadata": {
        "colab": {
          "base_uri": "https://localhost:8080/"
        },
        "id": "h2K4YhnYcUWj",
        "outputId": "ad6ca151-16b2-4ec0-be2b-1c1a0d056f4a"
      },
      "source": [
        "'''\n",
        "Preview TF-IDF scores for our first document --> --> (token_id, tfidf score)\n",
        "'''\n",
        "from pprint import pprint\n",
        "for doc in corpus_tfidf:\n",
        "    pprint(doc)\n",
        "    break"
      ],
      "execution_count": 46,
      "outputs": [
        {
          "output_type": "stream",
          "name": "stdout",
          "text": [
            "[(0, 0.589272278034924),\n",
            " (1, 0.3892842954875021),\n",
            " (2, 0.49648286011932197),\n",
            " (3, 0.5046986122767408)]\n"
          ]
        }
      ]
    },
    {
      "cell_type": "markdown",
      "metadata": {
        "id": "PIGkJOMNcUWj"
      },
      "source": [
        "## Step 4.1: Running LDA using Bag of Words ##\n",
        "\n",
        "We are going for 10 topics in the document corpus.\n",
        "\n",
        "** We will be running LDA using all CPU cores to parallelize and speed up model training.**\n",
        "\n",
        "Some of the parameters we will be tweaking are:\n",
        "\n",
        "* **num_topics** is the number of requested latent topics to be extracted from the training corpus.\n",
        "* **id2word** is a mapping from word ids (integers) to words (strings). It is used to determine the vocabulary size, as well as for debugging and topic printing.\n",
        "* **workers** is the number of extra processes to use for parallelization. Uses all available cores by default.\n",
        "* **alpha** and **eta** are hyperparameters that affect sparsity of the document-topic (theta) and topic-word (lambda) distributions. We will let these be the default values for now(default value is `1/num_topics`)\n",
        "    - Alpha is the per document topic distribution.\n",
        "        * High alpha: Every document has a mixture of all topics(documents appear similar to each other).\n",
        "        * Low alpha: Every document has a mixture of very few topics\n",
        "\n",
        "    - Eta is the per topic word distribution.\n",
        "        * High eta: Each topic has a mixture of most words(topics appear similar to each other).\n",
        "        * Low eta: Each topic has a mixture of few words.\n",
        "\n",
        "* ** passes ** is the number of training passes through the corpus. For  example, if the training corpus has 50,000 documents, chunksize is  10,000, passes is 2, then online training is done in 10 updates: \n",
        "    * `#1 documents 0-9,999 `\n",
        "    * `#2 documents 10,000-19,999 `\n",
        "    * `#3 documents 20,000-29,999 `\n",
        "    * `#4 documents 30,000-39,999 `\n",
        "    * `#5 documents 40,000-49,999 `\n",
        "    * `#6 documents 0-9,999 `\n",
        "    * `#7 documents 10,000-19,999 `\n",
        "    * `#8 documents 20,000-29,999 `\n",
        "    * `#9 documents 30,000-39,999 `\n",
        "    * `#10 documents 40,000-49,999` "
      ]
    },
    {
      "cell_type": "code",
      "metadata": {
        "id": "93e1IyoDcUWk"
      },
      "source": [
        "# LDA multicore \n",
        "'''\n",
        "Train your lda model using gensim.models.LdaMulticore and save it to 'lda_model'\n",
        "\n",
        "If Multicore is throwing errors on you laptop, use LDA mono-core, gensim.models.LdaModel\n",
        "'''\n",
        "# TODO\n",
        "lda_model = gensim.models.LdaMulticore(bow_corpus,num_topics=10, id2word = dictionary, workers=3) #passes = 2, alpha = 0.225, eta = 0.225, "
      ],
      "execution_count": 47,
      "outputs": []
    },
    {
      "cell_type": "code",
      "metadata": {
        "colab": {
          "base_uri": "https://localhost:8080/"
        },
        "id": "cBl_JNRLcUWk",
        "outputId": "32b73319-cbaf-422c-c7ed-f41e3dbda4c9"
      },
      "source": [
        "'''\n",
        "For each topic, we will explore the words occuring in that topic and its relative weight\n",
        "'''\n",
        "for idx, topic in lda_model.print_topics(-1):\n",
        "    print(\"Topic: {} \\nWords: {}\".format(idx, topic))\n",
        "    print(\"\\n\")"
      ],
      "execution_count": 48,
      "outputs": [
        {
          "output_type": "stream",
          "name": "stdout",
          "text": [
            "Topic: 0 \n",
            "Words: 0.020*\"south\" + 0.019*\"australia\" + 0.018*\"north\" + 0.017*\"world\" + 0.016*\"help\" + 0.015*\"coast\" + 0.013*\"west\" + 0.011*\"gold\" + 0.011*\"australian\" + 0.010*\"win\"\n",
            "\n",
            "\n",
            "Topic: 1 \n",
            "Words: 0.029*\"australia\" + 0.020*\"countri\" + 0.019*\"elect\" + 0.013*\"open\" + 0.012*\"protest\" + 0.010*\"forc\" + 0.010*\"nation\" + 0.010*\"polit\" + 0.009*\"john\" + 0.009*\"parti\"\n",
            "\n",
            "\n",
            "Topic: 2 \n",
            "Words: 0.030*\"queensland\" + 0.016*\"price\" + 0.015*\"rise\" + 0.014*\"deal\" + 0.014*\"rate\" + 0.013*\"fall\" + 0.013*\"budget\" + 0.013*\"need\" + 0.012*\"hope\" + 0.011*\"week\"\n",
            "\n",
            "\n",
            "Topic: 3 \n",
            "Words: 0.028*\"death\" + 0.027*\"murder\" + 0.018*\"charg\" + 0.017*\"child\" + 0.014*\"busi\" + 0.012*\"chang\" + 0.012*\"guilti\" + 0.012*\"bank\" + 0.011*\"concern\" + 0.010*\"hobart\"\n",
            "\n",
            "\n",
            "Topic: 4 \n",
            "Words: 0.058*\"polic\" + 0.022*\"interview\" + 0.021*\"adelaid\" + 0.016*\"miss\" + 0.014*\"investig\" + 0.013*\"drug\" + 0.011*\"assault\" + 0.011*\"search\" + 0.011*\"charg\" + 0.010*\"arrest\"\n",
            "\n",
            "\n",
            "Topic: 5 \n",
            "Words: 0.016*\"market\" + 0.012*\"turnbul\" + 0.012*\"share\" + 0.010*\"royal\" + 0.010*\"victorian\" + 0.009*\"say\" + 0.009*\"liber\" + 0.008*\"secur\" + 0.008*\"premier\" + 0.008*\"commiss\"\n",
            "\n",
            "\n",
            "Topic: 6 \n",
            "Words: 0.034*\"court\" + 0.027*\"attack\" + 0.022*\"face\" + 0.016*\"kill\" + 0.014*\"peopl\" + 0.012*\"citi\" + 0.012*\"accus\" + 0.010*\"hill\" + 0.010*\"rule\" + 0.009*\"claim\"\n",
            "\n",
            "\n",
            "Topic: 7 \n",
            "Words: 0.026*\"trump\" + 0.025*\"australian\" + 0.025*\"year\" + 0.018*\"crash\" + 0.017*\"jail\" + 0.017*\"woman\" + 0.015*\"dy\" + 0.014*\"life\" + 0.012*\"donald\" + 0.011*\"sentenc\"\n",
            "\n",
            "\n",
            "Topic: 8 \n",
            "Words: 0.031*\"sydney\" + 0.025*\"melbourn\" + 0.020*\"home\" + 0.018*\"hour\" + 0.014*\"live\" + 0.012*\"flood\" + 0.011*\"island\" + 0.011*\"victoria\" + 0.010*\"resid\" + 0.010*\"warn\"\n",
            "\n",
            "\n",
            "Topic: 9 \n",
            "Words: 0.024*\"govern\" + 0.018*\"plan\" + 0.014*\"fund\" + 0.013*\"health\" + 0.012*\"hous\" + 0.012*\"council\" + 0.011*\"water\" + 0.011*\"labor\" + 0.011*\"rural\" + 0.010*\"indigen\"\n",
            "\n",
            "\n"
          ]
        }
      ]
    },
    {
      "cell_type": "markdown",
      "metadata": {
        "id": "-nSf7X-qcUWk"
      },
      "source": [
        "### Classification of the topics ###\n",
        "\n",
        "Using the words in each topic and their corresponding weights, what categories were you able to infer?\n",
        "\n",
        "* 0: \n",
        "* 1: \n",
        "* 2: \n",
        "* 3: \n",
        "* 4: \n",
        "* 5: \n",
        "* 6: \n",
        "* 7:  \n",
        "* 8: \n",
        "* 9: "
      ]
    },
    {
      "cell_type": "markdown",
      "metadata": {
        "id": "L9312QyRcUWl"
      },
      "source": [
        "## Step 4.2 Running LDA using TF-IDF ##"
      ]
    },
    {
      "cell_type": "code",
      "metadata": {
        "id": "6M_ZQbiycUWl"
      },
      "source": [
        "'''\n",
        "Define lda model using corpus_tfidf\n",
        "'''\n",
        "# TODO\n",
        "lda_model_tfidf = gensim.models.LdaMulticore(corpus_tfidf, num_topics=10, id2word = dictionary, workers=3)"
      ],
      "execution_count": 49,
      "outputs": []
    },
    {
      "cell_type": "code",
      "metadata": {
        "colab": {
          "base_uri": "https://localhost:8080/"
        },
        "id": "ntPVvCvYcUWl",
        "outputId": "f9419279-43e8-4151-a4e3-a1a51bafff05"
      },
      "source": [
        "'''\n",
        "For each topic, we will explore the words occuring in that topic and its relative weight\n",
        "'''\n",
        "for idx, topic in lda_model_tfidf.print_topics(-1):\n",
        "    print(\"Topic: {} Word: {}\".format(idx, topic))\n",
        "    print(\"\\n\")"
      ],
      "execution_count": 50,
      "outputs": [
        {
          "output_type": "stream",
          "name": "stdout",
          "text": [
            "Topic: 0 Word: 0.008*\"elect\" + 0.008*\"weather\" + 0.006*\"sport\" + 0.006*\"labor\" + 0.006*\"govern\" + 0.006*\"sexual\" + 0.006*\"david\" + 0.006*\"liber\" + 0.006*\"campaign\" + 0.005*\"polit\"\n",
            "\n",
            "\n",
            "Topic: 1 Word: 0.008*\"final\" + 0.007*\"world\" + 0.006*\"octob\" + 0.006*\"malcolm\" + 0.006*\"mother\" + 0.006*\"plead\" + 0.006*\"monday\" + 0.006*\"australia\" + 0.005*\"rugbi\" + 0.005*\"quiz\"\n",
            "\n",
            "\n",
            "Topic: 2 Word: 0.009*\"south\" + 0.008*\"australia\" + 0.008*\"north\" + 0.007*\"grandstand\" + 0.007*\"queensland\" + 0.007*\"korea\" + 0.007*\"east\" + 0.006*\"climat\" + 0.006*\"peter\" + 0.006*\"say\"\n",
            "\n",
            "\n",
            "Topic: 3 Word: 0.011*\"podcast\" + 0.007*\"miss\" + 0.007*\"search\" + 0.007*\"juli\" + 0.006*\"energi\" + 0.006*\"andrew\" + 0.006*\"decemb\" + 0.006*\"toni\" + 0.005*\"coal\" + 0.005*\"univers\"\n",
            "\n",
            "\n",
            "Topic: 4 Word: 0.017*\"charg\" + 0.017*\"polic\" + 0.014*\"murder\" + 0.012*\"crash\" + 0.011*\"woman\" + 0.011*\"alleg\" + 0.010*\"court\" + 0.009*\"interview\" + 0.009*\"death\" + 0.008*\"jail\"\n",
            "\n",
            "\n",
            "Topic: 5 Word: 0.016*\"market\" + 0.015*\"rural\" + 0.014*\"news\" + 0.013*\"donald\" + 0.010*\"share\" + 0.007*\"novemb\" + 0.007*\"septemb\" + 0.007*\"wall\" + 0.006*\"nation\" + 0.006*\"august\"\n",
            "\n",
            "\n",
            "Topic: 6 Word: 0.012*\"drum\" + 0.009*\"royal\" + 0.007*\"violenc\" + 0.007*\"domest\" + 0.006*\"commiss\" + 0.006*\"pacif\" + 0.005*\"adelaid\" + 0.005*\"damag\" + 0.004*\"disabl\" + 0.004*\"tree\"\n",
            "\n",
            "\n",
            "Topic: 7 Word: 0.010*\"hill\" + 0.008*\"michael\" + 0.008*\"leagu\" + 0.008*\"friday\" + 0.007*\"tuesday\" + 0.007*\"ash\" + 0.007*\"hobart\" + 0.006*\"central\" + 0.006*\"jame\" + 0.005*\"broken\"\n",
            "\n",
            "\n",
            "Topic: 8 Word: 0.021*\"trump\" + 0.010*\"turnbul\" + 0.009*\"health\" + 0.007*\"tasmania\" + 0.007*\"marriag\" + 0.006*\"abbott\" + 0.005*\"mental\" + 0.005*\"say\" + 0.005*\"govern\" + 0.005*\"stori\"\n",
            "\n",
            "\n",
            "Topic: 9 Word: 0.021*\"countri\" + 0.019*\"hour\" + 0.010*\"live\" + 0.008*\"price\" + 0.007*\"christma\" + 0.006*\"cattl\" + 0.006*\"care\" + 0.005*\"dollar\" + 0.005*\"budget\" + 0.005*\"june\"\n",
            "\n",
            "\n"
          ]
        }
      ]
    },
    {
      "cell_type": "markdown",
      "metadata": {
        "id": "FXPlgA8zcUWm"
      },
      "source": [
        "### Classification of the topics ###\n",
        "\n",
        "As we can see, when using tf-idf, heavier weights are given to words that are not as frequent which results in nouns being factored in. That makes it harder to figure out the categories as nouns can be hard to categorize. This goes to show that the models we apply depend on the type of corpus of text we are dealing with. \n",
        "\n",
        "Using the words in each topic and their corresponding weights, what categories could you find?\n",
        "\n",
        "* 0: \n",
        "* 1:  \n",
        "* 2: \n",
        "* 3: \n",
        "* 4:  \n",
        "* 5: \n",
        "* 6: \n",
        "* 7: \n",
        "* 8: \n",
        "* 9: "
      ]
    },
    {
      "cell_type": "markdown",
      "metadata": {
        "id": "n6md1jBtcUWm"
      },
      "source": [
        "## Step 5.1: Performance evaluation by classifying sample document using LDA Bag of Words model\n",
        "\n",
        "We will check to see where our test document would be classified. "
      ]
    },
    {
      "cell_type": "code",
      "metadata": {
        "colab": {
          "base_uri": "https://localhost:8080/"
        },
        "id": "lvzrhjUHcUWm",
        "outputId": "771954bc-156b-41e5-ad96-6ab7267257e2"
      },
      "source": [
        "'''\n",
        "Text of sample document 4310\n",
        "'''\n",
        "processed_docs[4310]"
      ],
      "execution_count": 51,
      "outputs": [
        {
          "output_type": "execute_result",
          "data": {
            "text/plain": [
              "['rain', 'help', 'dampen', 'bushfir']"
            ]
          },
          "metadata": {},
          "execution_count": 51
        }
      ]
    },
    {
      "cell_type": "code",
      "metadata": {
        "colab": {
          "base_uri": "https://localhost:8080/"
        },
        "id": "_Ee8z8o_cUWn",
        "outputId": "1e8a80b7-8fc0-4fba-8835-b6698d0b39af"
      },
      "source": [
        "'''\n",
        "Check which topic our test document belongs to using the LDA Bag of Words model.\n",
        "'''\n",
        "\n",
        "# Our test document is document number 4310\n",
        "for index, score in sorted(lda_model[bow_corpus[4310]], key=lambda tup: -1*tup[1]):\n",
        "    print(\"\\nScore: {}\\t \\nTopic: {}\".format(score, lda_model.print_topic(index, 10)))"
      ],
      "execution_count": 53,
      "outputs": [
        {
          "output_type": "stream",
          "name": "stdout",
          "text": [
            "\n",
            "Score: 0.39847296476364136\t \n",
            "Topic: 0.020*\"south\" + 0.019*\"australia\" + 0.018*\"north\" + 0.017*\"world\" + 0.016*\"help\" + 0.015*\"coast\" + 0.013*\"west\" + 0.011*\"gold\" + 0.011*\"australian\" + 0.010*\"win\"\n",
            "\n",
            "Score: 0.24200980365276337\t \n",
            "Topic: 0.026*\"trump\" + 0.025*\"australian\" + 0.025*\"year\" + 0.018*\"crash\" + 0.017*\"jail\" + 0.017*\"woman\" + 0.015*\"dy\" + 0.014*\"life\" + 0.012*\"donald\" + 0.011*\"sentenc\"\n",
            "\n",
            "Score: 0.2195146083831787\t \n",
            "Topic: 0.058*\"polic\" + 0.022*\"interview\" + 0.021*\"adelaid\" + 0.016*\"miss\" + 0.014*\"investig\" + 0.013*\"drug\" + 0.011*\"assault\" + 0.011*\"search\" + 0.011*\"charg\" + 0.010*\"arrest\"\n",
            "\n",
            "Score: 0.020002568140625954\t \n",
            "Topic: 0.030*\"queensland\" + 0.016*\"price\" + 0.015*\"rise\" + 0.014*\"deal\" + 0.014*\"rate\" + 0.013*\"fall\" + 0.013*\"budget\" + 0.013*\"need\" + 0.012*\"hope\" + 0.011*\"week\"\n",
            "\n",
            "Score: 0.020000034943223\t \n",
            "Topic: 0.031*\"sydney\" + 0.025*\"melbourn\" + 0.020*\"home\" + 0.018*\"hour\" + 0.014*\"live\" + 0.012*\"flood\" + 0.011*\"island\" + 0.011*\"victoria\" + 0.010*\"resid\" + 0.010*\"warn\"\n",
            "\n",
            "Score: 0.020000003278255463\t \n",
            "Topic: 0.028*\"death\" + 0.027*\"murder\" + 0.018*\"charg\" + 0.017*\"child\" + 0.014*\"busi\" + 0.012*\"chang\" + 0.012*\"guilti\" + 0.012*\"bank\" + 0.011*\"concern\" + 0.010*\"hobart\"\n",
            "\n",
            "Score: 0.020000001415610313\t \n",
            "Topic: 0.029*\"australia\" + 0.020*\"countri\" + 0.019*\"elect\" + 0.013*\"open\" + 0.012*\"protest\" + 0.010*\"forc\" + 0.010*\"nation\" + 0.010*\"polit\" + 0.009*\"john\" + 0.009*\"parti\"\n",
            "\n",
            "Score: 0.020000001415610313\t \n",
            "Topic: 0.016*\"market\" + 0.012*\"turnbul\" + 0.012*\"share\" + 0.010*\"royal\" + 0.010*\"victorian\" + 0.009*\"say\" + 0.009*\"liber\" + 0.008*\"secur\" + 0.008*\"premier\" + 0.008*\"commiss\"\n",
            "\n",
            "Score: 0.020000001415610313\t \n",
            "Topic: 0.024*\"govern\" + 0.018*\"plan\" + 0.014*\"fund\" + 0.013*\"health\" + 0.012*\"hous\" + 0.012*\"council\" + 0.011*\"water\" + 0.011*\"labor\" + 0.011*\"rural\" + 0.010*\"indigen\"\n",
            "\n",
            "Score: 0.019999999552965164\t \n",
            "Topic: 0.034*\"court\" + 0.027*\"attack\" + 0.022*\"face\" + 0.016*\"kill\" + 0.014*\"peopl\" + 0.012*\"citi\" + 0.012*\"accus\" + 0.010*\"hill\" + 0.010*\"rule\" + 0.009*\"claim\"\n"
          ]
        }
      ]
    },
    {
      "cell_type": "markdown",
      "metadata": {
        "id": "Ma2lhTLEcUWn"
      },
      "source": [
        "## Step 5.2: Performance evaluation by classifying sample document using LDA TF-IDF model"
      ]
    },
    {
      "cell_type": "code",
      "metadata": {
        "colab": {
          "base_uri": "https://localhost:8080/"
        },
        "id": "dwgHfZ7ycUWn",
        "outputId": "652f48f5-7928-492f-9e80-c97f8886a848"
      },
      "source": [
        "'''\n",
        "Check which topic our test document belongs to using the LDA TF-IDF model.\n",
        "Code would be similar to above\n",
        "'''\n",
        "# Todo\n",
        "for index, score in sorted(lda_model_tfidf[bow_corpus[4310]], key=lambda tup: -1*tup[1]):\n",
        "    print(\"\\nScore: {}\\t \\nTopic: {}\".format(score, lda_model.print_topic(index, 10)))"
      ],
      "execution_count": 54,
      "outputs": [
        {
          "output_type": "stream",
          "name": "stdout",
          "text": [
            "\n",
            "Score: 0.5895167589187622\t \n",
            "Topic: 0.024*\"govern\" + 0.018*\"plan\" + 0.014*\"fund\" + 0.013*\"health\" + 0.012*\"hous\" + 0.012*\"council\" + 0.011*\"water\" + 0.011*\"labor\" + 0.011*\"rural\" + 0.010*\"indigen\"\n",
            "\n",
            "Score: 0.2504594922065735\t \n",
            "Topic: 0.058*\"polic\" + 0.022*\"interview\" + 0.021*\"adelaid\" + 0.016*\"miss\" + 0.014*\"investig\" + 0.013*\"drug\" + 0.011*\"assault\" + 0.011*\"search\" + 0.011*\"charg\" + 0.010*\"arrest\"\n",
            "\n",
            "Score: 0.020007722079753876\t \n",
            "Topic: 0.034*\"court\" + 0.027*\"attack\" + 0.022*\"face\" + 0.016*\"kill\" + 0.014*\"peopl\" + 0.012*\"citi\" + 0.012*\"accus\" + 0.010*\"hill\" + 0.010*\"rule\" + 0.009*\"claim\"\n",
            "\n",
            "Score: 0.020004643127322197\t \n",
            "Topic: 0.031*\"sydney\" + 0.025*\"melbourn\" + 0.020*\"home\" + 0.018*\"hour\" + 0.014*\"live\" + 0.012*\"flood\" + 0.011*\"island\" + 0.011*\"victoria\" + 0.010*\"resid\" + 0.010*\"warn\"\n",
            "\n",
            "Score: 0.02000311203300953\t \n",
            "Topic: 0.030*\"queensland\" + 0.016*\"price\" + 0.015*\"rise\" + 0.014*\"deal\" + 0.014*\"rate\" + 0.013*\"fall\" + 0.013*\"budget\" + 0.013*\"need\" + 0.012*\"hope\" + 0.011*\"week\"\n",
            "\n",
            "Score: 0.020002366974949837\t \n",
            "Topic: 0.026*\"trump\" + 0.025*\"australian\" + 0.025*\"year\" + 0.018*\"crash\" + 0.017*\"jail\" + 0.017*\"woman\" + 0.015*\"dy\" + 0.014*\"life\" + 0.012*\"donald\" + 0.011*\"sentenc\"\n",
            "\n",
            "Score: 0.020001688972115517\t \n",
            "Topic: 0.020*\"south\" + 0.019*\"australia\" + 0.018*\"north\" + 0.017*\"world\" + 0.016*\"help\" + 0.015*\"coast\" + 0.013*\"west\" + 0.011*\"gold\" + 0.011*\"australian\" + 0.010*\"win\"\n",
            "\n",
            "Score: 0.020001528784632683\t \n",
            "Topic: 0.016*\"market\" + 0.012*\"turnbul\" + 0.012*\"share\" + 0.010*\"royal\" + 0.010*\"victorian\" + 0.009*\"say\" + 0.009*\"liber\" + 0.008*\"secur\" + 0.008*\"premier\" + 0.008*\"commiss\"\n",
            "\n",
            "Score: 0.020001348108053207\t \n",
            "Topic: 0.029*\"australia\" + 0.020*\"countri\" + 0.019*\"elect\" + 0.013*\"open\" + 0.012*\"protest\" + 0.010*\"forc\" + 0.010*\"nation\" + 0.010*\"polit\" + 0.009*\"john\" + 0.009*\"parti\"\n",
            "\n",
            "Score: 0.020001312717795372\t \n",
            "Topic: 0.028*\"death\" + 0.027*\"murder\" + 0.018*\"charg\" + 0.017*\"child\" + 0.014*\"busi\" + 0.012*\"chang\" + 0.012*\"guilti\" + 0.012*\"bank\" + 0.011*\"concern\" + 0.010*\"hobart\"\n"
          ]
        }
      ]
    },
    {
      "cell_type": "markdown",
      "metadata": {
        "id": "zfmE0gBecUWn"
      },
      "source": [
        "## Step 6: Testing model on unseen document ##"
      ]
    },
    {
      "cell_type": "code",
      "metadata": {
        "colab": {
          "base_uri": "https://localhost:8080/"
        },
        "id": "kOItOYfkcUWo",
        "outputId": "fadb6066-e007-4a36-8a20-43909760ae7f"
      },
      "source": [
        "unseen_document = \"My favorite sports activities are running and swimming.\"\n",
        "\n",
        "# Data preprocessing step for the unseen document\n",
        "bow_vector = dictionary.doc2bow(preprocess(unseen_document))\n",
        "\n",
        "for index, score in sorted(lda_model[bow_vector], key=lambda tup: -1*tup[1]):\n",
        "    print(\"Score: {}\\t Topic: {}\".format(score, lda_model.print_topic(index, 5)))"
      ],
      "execution_count": 55,
      "outputs": [
        {
          "output_type": "stream",
          "name": "stdout",
          "text": [
            "Score: 0.6200000047683716\t Topic: 0.030*\"queensland\" + 0.016*\"price\" + 0.015*\"rise\" + 0.014*\"deal\" + 0.014*\"rate\"\n",
            "Score: 0.2199999839067459\t Topic: 0.031*\"sydney\" + 0.025*\"melbourn\" + 0.020*\"home\" + 0.018*\"hour\" + 0.014*\"live\"\n",
            "Score: 0.02000000700354576\t Topic: 0.029*\"australia\" + 0.020*\"countri\" + 0.019*\"elect\" + 0.013*\"open\" + 0.012*\"protest\"\n",
            "Score: 0.019999999552965164\t Topic: 0.020*\"south\" + 0.019*\"australia\" + 0.018*\"north\" + 0.017*\"world\" + 0.016*\"help\"\n",
            "Score: 0.019999999552965164\t Topic: 0.028*\"death\" + 0.027*\"murder\" + 0.018*\"charg\" + 0.017*\"child\" + 0.014*\"busi\"\n",
            "Score: 0.019999999552965164\t Topic: 0.058*\"polic\" + 0.022*\"interview\" + 0.021*\"adelaid\" + 0.016*\"miss\" + 0.014*\"investig\"\n",
            "Score: 0.019999999552965164\t Topic: 0.016*\"market\" + 0.012*\"turnbul\" + 0.012*\"share\" + 0.010*\"royal\" + 0.010*\"victorian\"\n",
            "Score: 0.019999999552965164\t Topic: 0.034*\"court\" + 0.027*\"attack\" + 0.022*\"face\" + 0.016*\"kill\" + 0.014*\"peopl\"\n",
            "Score: 0.019999999552965164\t Topic: 0.026*\"trump\" + 0.025*\"australian\" + 0.025*\"year\" + 0.018*\"crash\" + 0.017*\"jail\"\n",
            "Score: 0.019999999552965164\t Topic: 0.024*\"govern\" + 0.018*\"plan\" + 0.014*\"fund\" + 0.013*\"health\" + 0.012*\"hous\"\n"
          ]
        }
      ]
    },
    {
      "cell_type": "markdown",
      "metadata": {
        "id": "qZVzRPe_cUWo"
      },
      "source": [
        "### Now, look up different ways we can transform our words or use different techniques or improvements that we can make to make our Topic Classifier more accurate. Write them down below:"
      ]
    },
    {
      "cell_type": "markdown",
      "metadata": {
        "id": "m3SqsuZFcUWo"
      },
      "source": [
        "**We can:**\n",
        "- Append points here <br>\n",
        " 1.) Corpus can be converted to Document-Term matrix. Bcoz to run any mathematical model on text corpus, it is better to convert it into a matrix of numbers. <br>\n",
        " 2.) Reducing the dimensionality of document-term matrix can improve the results. <br>\n",
        " 3.) We can divide corpus into batches and then use LDA multiple times.<br>\n",
        " 4.) Parts of speech can be used. as every term is not important contextually.<br>\n",
        " 5.) Arrange every term according to its frequency and then set a threshold. Terms with higher frequencies are more likely to appear in the results as compared ones with low frequency."
      ]
    }
  ]
}