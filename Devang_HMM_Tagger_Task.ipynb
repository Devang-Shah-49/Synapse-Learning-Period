{
  "nbformat": 4,
  "nbformat_minor": 0,
  "metadata": {
    "kernelspec": {
      "display_name": "Python 3",
      "language": "python",
      "name": "python3"
    },
    "language_info": {
      "codemirror_mode": {
        "name": "ipython",
        "version": 3
      },
      "file_extension": ".py",
      "mimetype": "text/x-python",
      "name": "python",
      "nbconvert_exporter": "python",
      "pygments_lexer": "ipython3",
      "version": "3.6.12"
    },
    "colab": {
      "name": "HMM_Tagger_Task.ipynb",
      "provenance": [],
      "collapsed_sections": []
    }
  },
  "cells": [
    {
      "cell_type": "markdown",
      "metadata": {
        "id": "DmWFIFTv8RzL"
      },
      "source": [
        "Part of Speech Tagging with Hidden Markov Models \n",
        "---\n",
        "### Introduction\n",
        "\n",
        "Part of speech tagging is the process of determining the syntactic category of a word from the words in its surrounding context. It is often used to help disambiguate natural language phrases because it can be done quickly with high accuracy. Tagging can be used for many NLP tasks like determining correct pronunciation during speech synthesis (for example, _dis_-count as a noun vs dis-_count_ as a verb), for information retrieval, and for word sense disambiguation.\n",
        "\n",
        "In this notebook, you'll use the [Pomegranate](http://pomegranate.readthedocs.io/) library to build a hidden Markov model for part of speech tagging using a \"universal\" tagset. Hidden Markov models have been able to achieve [>96% tag accuracy with larger tagsets on realistic text corpora](http://www.coli.uni-saarland.de/~thorsten/publications/Brants-ANLP00.pdf). Hidden Markov models have also been used for speech recognition and speech generation, machine translation, gene recognition for bioinformatics, and human gesture recognition for computer vision, and more. "
      ]
    },
    {
      "cell_type": "markdown",
      "metadata": {
        "id": "RjsLAMmf8Rza"
      },
      "source": [
        "### Study Material:\n",
        "- https://www.youtube.com/watch?v=kqSzLo9fenk\n",
        "- https://analyticsindiamag.com/a-guide-to-hidden-markov-model-and-its-applications-in-nlp/\n",
        "- https://medium.com/@kangeugine/hidden-markov-model-7681c22f5b9\n",
        "- https://medium.com/analytics-vidhya/how-to-build-a-simple-hidden-markov-models-with-pomegranate-dfa885b337fb\n",
        "- https://www.youtube.com/watch?v=6JVqutwtzmo"
      ]
    },
    {
      "cell_type": "code",
      "metadata": {
        "colab": {
          "base_uri": "https://localhost:8080/",
          "height": 609
        },
        "id": "jnr1PZyTE1QN",
        "outputId": "0f85f673-2d4b-443e-8e18-2cbb522d5187"
      },
      "source": [
        "!pip install pomegranate"
      ],
      "execution_count": 1,
      "outputs": [
        {
          "output_type": "stream",
          "name": "stdout",
          "text": [
            "Collecting pomegranate\n",
            "  Downloading pomegranate-0.14.7.tar.gz (4.3 MB)\n",
            "\u001b[K     |████████████████████████████████| 4.3 MB 8.4 MB/s \n",
            "\u001b[?25h  Installing build dependencies ... \u001b[?25l\u001b[?25hdone\n",
            "  Getting requirements to build wheel ... \u001b[?25l\u001b[?25hdone\n",
            "    Preparing wheel metadata ... \u001b[?25l\u001b[?25hdone\n",
            "Requirement already satisfied: scipy>=0.17.0 in /usr/local/lib/python3.7/dist-packages (from pomegranate) (1.4.1)\n",
            "\u001b[33mWARNING: Retrying (Retry(total=4, connect=None, read=None, redirect=None, status=None)) after connection broken by 'ProtocolError('Connection aborted.', ConnectionResetError(104, 'Connection reset by peer'))': /simple/numpy/\u001b[0m\n",
            "Collecting numpy>=1.20.0\n",
            "  Using cached numpy-1.21.4-cp37-cp37m-manylinux_2_12_x86_64.manylinux2010_x86_64.whl (15.7 MB)\n",
            "Requirement already satisfied: networkx>=2.4 in /usr/local/lib/python3.7/dist-packages (from pomegranate) (2.6.3)\n",
            "Requirement already satisfied: joblib>=0.9.0b4 in /usr/local/lib/python3.7/dist-packages (from pomegranate) (1.1.0)\n",
            "Requirement already satisfied: pyyaml in /usr/local/lib/python3.7/dist-packages (from pomegranate) (3.13)\n",
            "Building wheels for collected packages: pomegranate\n",
            "  Building wheel for pomegranate (PEP 517) ... \u001b[?25l\u001b[?25hdone\n",
            "  Created wheel for pomegranate: filename=pomegranate-0.14.7-cp37-cp37m-linux_x86_64.whl size=14949122 sha256=e2ef5ee214ff6792109126033fad5d3a5490bc8e60870519cc0f18890e72aef4\n",
            "  Stored in directory: /root/.cache/pip/wheels/02/0a/89/e53c61d6cd9edc5d7f1b31070038ba0653f8f48b096cd46893\n",
            "Successfully built pomegranate\n",
            "Installing collected packages: numpy, pomegranate\n",
            "  Attempting uninstall: numpy\n",
            "    Found existing installation: numpy 1.19.5\n",
            "    Uninstalling numpy-1.19.5:\n",
            "      Successfully uninstalled numpy-1.19.5\n",
            "\u001b[31mERROR: pip's dependency resolver does not currently take into account all the packages that are installed. This behaviour is the source of the following dependency conflicts.\n",
            "yellowbrick 1.3.post1 requires numpy<1.20,>=1.16.0, but you have numpy 1.21.4 which is incompatible.\n",
            "datascience 0.10.6 requires folium==0.2.1, but you have folium 0.8.3 which is incompatible.\n",
            "albumentations 0.1.12 requires imgaug<0.2.7,>=0.2.5, but you have imgaug 0.2.9 which is incompatible.\u001b[0m\n",
            "Successfully installed numpy-1.21.4 pomegranate-0.14.7\n"
          ]
        },
        {
          "output_type": "display_data",
          "data": {
            "application/vnd.colab-display-data+json": {
              "pip_warning": {
                "packages": [
                  "numpy"
                ]
              }
            }
          },
          "metadata": {}
        }
      ]
    },
    {
      "cell_type": "code",
      "metadata": {
        "id": "dsBOl52PZBhu"
      },
      "source": [
        "# /*Copying contents of helper.py*/\n",
        "import os\n",
        "import matplotlib.pyplot as plt\n",
        "import matplotlib.image as mplimg\n",
        "import networkx as nx\n",
        "import random\n",
        "\n",
        "from io import BytesIO\n",
        "from itertools import chain\n",
        "from collections import namedtuple, OrderedDict\n",
        "\n",
        "\n",
        "Sentence = namedtuple(\"Sentence\", \"words tags\")\n",
        "\n",
        "def read_data(filename):\n",
        "    \"\"\"Read tagged sentence data\"\"\"\n",
        "    with open(filename, 'r') as f:\n",
        "        sentence_lines = [l.split(\"\\n\") for l in f.read().split(\"\\n\\n\")]\n",
        "    return OrderedDict(((s[0], Sentence(*zip(*[l.strip().split(\"\\t\")\n",
        "                        for l in s[1:]]))) for s in sentence_lines if s[0]))\n",
        "\n",
        "\n",
        "def read_tags(filename):\n",
        "    \"\"\"Read a list of word tag classes\"\"\"\n",
        "    with open(filename, 'r') as f:\n",
        "        tags = f.read().split(\"\\n\")\n",
        "    return frozenset(tags)\n",
        "\n",
        "\n",
        "def model2png(model, filename=\"\", overwrite=False, show_ends=False):\n",
        "    \"\"\"Convert a Pomegranate model into a PNG image\n",
        "\n",
        "    The conversion pipeline extracts the underlying NetworkX graph object,\n",
        "    converts it to a PyDot graph, then writes the PNG data to a bytes array,\n",
        "    which can be saved as a file to disk or imported with matplotlib for display.\n",
        "\n",
        "        Model -> NetworkX.Graph -> PyDot.Graph -> bytes -> PNG\n",
        "\n",
        "    Parameters\n",
        "    ----------\n",
        "    model : Pomegranate.Model\n",
        "        The model object to convert. The model must have an attribute .graph\n",
        "        referencing a NetworkX.Graph instance.\n",
        "\n",
        "    filename : string (optional)\n",
        "        The PNG file will be saved to disk with this filename if one is provided.\n",
        "        By default, the image file will NOT be created if a file with this name\n",
        "        already exists unless overwrite=True.\n",
        "\n",
        "    overwrite : bool (optional)\n",
        "        overwrite=True allows the new PNG to overwrite the specified file if it\n",
        "        already exists\n",
        "\n",
        "    show_ends : bool (optional)\n",
        "        show_ends=True will generate the PNG including the two end states from\n",
        "        the Pomegranate model (which are not usually an explicit part of the graph)\n",
        "    \"\"\"\n",
        "    nodes = model.graph.nodes()\n",
        "    if not show_ends:\n",
        "        nodes = [n for n in nodes if n not in (model.start, model.end)]\n",
        "    g = nx.relabel_nodes(model.graph.subgraph(nodes), {n: n.name for n in model.graph.nodes()})\n",
        "    pydot_graph = nx.drawing.nx_pydot.to_pydot(g)\n",
        "    pydot_graph.set_rankdir(\"LR\")\n",
        "    png_data = pydot_graph.create_png(prog='dot')\n",
        "    img_data = BytesIO()\n",
        "    img_data.write(png_data)\n",
        "    img_data.seek(0)\n",
        "    if filename:\n",
        "        if os.path.exists(filename) and not overwrite:\n",
        "            raise IOError(\"File already exists. Use overwrite=True to replace existing files on disk.\")\n",
        "        with open(filename, 'wb') as f:\n",
        "            f.write(img_data.read())\n",
        "        img_data.seek(0)\n",
        "    return mplimg.imread(img_data)\n",
        "\n",
        "\n",
        "def show_model(model, figsize=(5, 5), **kwargs):\n",
        "    \"\"\"Display a Pomegranate model as an image using matplotlib\n",
        "\n",
        "    Parameters\n",
        "    ----------\n",
        "    model : Pomegranate.Model\n",
        "        The model object to convert. The model must have an attribute .graph\n",
        "        referencing a NetworkX.Graph instance.\n",
        "\n",
        "    figsize : tuple(int, int) (optional)\n",
        "        A tuple specifying the dimensions of a matplotlib Figure that will\n",
        "        display the converted graph\n",
        "\n",
        "    **kwargs : dict\n",
        "        The kwargs dict is passed to the model2png program, see that function\n",
        "        for details\n",
        "    \"\"\"\n",
        "    plt.figure(figsize=figsize)\n",
        "    plt.imshow(model2png(model, **kwargs))\n",
        "    plt.axis('off')\n",
        "\n",
        "\n",
        "class Subset(namedtuple(\"BaseSet\", \"sentences keys vocab X tagset Y N stream\")):\n",
        "    def __new__(cls, sentences, keys):\n",
        "        word_sequences = tuple([sentences[k].words for k in keys])\n",
        "        tag_sequences = tuple([sentences[k].tags for k in keys])\n",
        "        wordset = frozenset(chain(*word_sequences))\n",
        "        tagset = frozenset(chain(*tag_sequences))\n",
        "        N = sum(1 for _ in chain(*(sentences[k].words for k in keys)))\n",
        "        stream = tuple(zip(chain(*word_sequences), chain(*tag_sequences)))\n",
        "        return super().__new__(cls, {k: sentences[k] for k in keys}, keys, wordset, word_sequences,\n",
        "                               tagset, tag_sequences, N, stream.__iter__)\n",
        "\n",
        "    def __len__(self):\n",
        "        return len(self.sentences)\n",
        "\n",
        "    def __iter__(self):\n",
        "        return iter(self.sentences.items())\n",
        "\n",
        "\n",
        "class Dataset(namedtuple(\"_Dataset\", \"sentences keys vocab X tagset Y training_set testing_set N stream\")):\n",
        "    def __new__(cls, tagfile, datafile, train_test_split=0.8, seed=112890):\n",
        "        tagset = read_tags(tagfile)\n",
        "        sentences = read_data(datafile)\n",
        "        keys = tuple(sentences.keys())\n",
        "        wordset = frozenset(chain(*[s.words for s in sentences.values()]))\n",
        "        word_sequences = tuple([sentences[k].words for k in keys])\n",
        "        tag_sequences = tuple([sentences[k].tags for k in keys])\n",
        "        N = sum(1 for _ in chain(*(s.words for s in sentences.values())))\n",
        "        \n",
        "        # split data into train/test sets\n",
        "        _keys = list(keys)\n",
        "        if seed is not None: random.seed(seed)\n",
        "        random.shuffle(_keys)\n",
        "        split = int(train_test_split * len(_keys))\n",
        "        training_data = Subset(sentences, _keys[:split])\n",
        "        testing_data = Subset(sentences, _keys[split:])\n",
        "        stream = tuple(zip(chain(*word_sequences), chain(*tag_sequences)))\n",
        "        return super().__new__(cls, dict(sentences), keys, wordset, word_sequences, tagset,\n",
        "                               tag_sequences, training_data, testing_data, N, stream.__iter__)\n",
        "\n",
        "    def __len__(self):\n",
        "        return len(self.sentences)\n",
        "\n",
        "    def __iter__(self):\n",
        "        return iter(self.sentences.items())"
      ],
      "execution_count": 2,
      "outputs": []
    },
    {
      "cell_type": "code",
      "metadata": {
        "id": "r3y-lpLV8Rzd"
      },
      "source": [
        "# import python modules -- this cell needs to be run again if you make changes to any of the files\n",
        "import matplotlib.pyplot as plt\n",
        "import numpy as np\n",
        "\n",
        "from IPython.core.display import HTML\n",
        "from collections import Counter, defaultdict\n",
        "# from helpers import show_model, Dataset\n",
        "from pomegranate import State, HiddenMarkovModel, DiscreteDistribution"
      ],
      "execution_count": 3,
      "outputs": []
    },
    {
      "cell_type": "markdown",
      "metadata": {
        "id": "8kf3H6ZA8Rzg"
      },
      "source": [
        "## Step 1: Read and preprocess the dataset\n",
        "---\n",
        "We'll start by reading in a text corpus and splitting it into a training and testing dataset. The data set is a copy of the [Brown corpus](https://en.wikipedia.org/wiki/Brown_Corpus) (originally from the [NLTK](https://www.nltk.org/) library) that has already been pre-processed to only include the [universal tagset](https://arxiv.org/pdf/1104.2086.pdf). You should expect to get slightly higher accuracy using this simplified tagset than the same model would achieve on a larger tagset like the full [Penn treebank tagset](https://www.ling.upenn.edu/courses/Fall_2003/ling001/penn_treebank_pos.html), but the process you'll follow would be the same.\n",
        "\n",
        "The `Dataset` class provided in helpers.py will read and parse the corpus. You can generate your own datasets compatible with the reader by writing them to the following format. The dataset is stored in plaintext as a collection of words and corresponding tags. Each sentence starts with a unique identifier on the first line, followed by one tab-separated word/tag pair on each following line. Sentences are separated by a single blank line.\n",
        "\n",
        "Example from the Brown corpus. \n",
        "```\n",
        "b100-38532\n",
        "Perhaps\tADV\n",
        "it\tPRON\n",
        "was\tVERB\n",
        "right\tADJ\n",
        ";\t.\n",
        ";\t.\n",
        "\n",
        "b100-35577\n",
        "...\n",
        "```"
      ]
    },
    {
      "cell_type": "code",
      "metadata": {
        "colab": {
          "base_uri": "https://localhost:8080/"
        },
        "id": "4Cx6gQ15Z4mA",
        "outputId": "6595252a-5409-4661-a627-14d132d03471"
      },
      "source": [
        "from google.colab import drive\n",
        "drive.mount(\"/content/gdrive\")"
      ],
      "execution_count": 4,
      "outputs": [
        {
          "output_type": "stream",
          "name": "stdout",
          "text": [
            "Mounted at /content/gdrive\n"
          ]
        }
      ]
    },
    {
      "cell_type": "code",
      "metadata": {
        "id": "iO3CPD7w8Rzi",
        "colab": {
          "base_uri": "https://localhost:8080/"
        },
        "outputId": "23303f0a-a8e6-4d57-e54b-e9ba5e085000"
      },
      "source": [
        "data = Dataset(\"/content/gdrive/MyDrive/Synapse_LP/NLP_Week3/part-of-speech-tagger/tags-universal.txt\", \"/content/gdrive/MyDrive/Synapse_LP/NLP_Week3/part-of-speech-tagger/brown-universal.txt\", train_test_split=0.8)\n",
        "\n",
        "# TODO: Complete the print statements\n",
        "\n",
        "print(\"There are {} sentences in the corpus.\".format(len(data)))\n",
        "print(\"There are {} sentences in the training set.\".format(len(data.training_set)))\n",
        "print(\"There are {} sentences in the testing set.\".format(len(data.testing_set)))\n",
        "\n",
        "assert len(data) == len(data.training_set) + len(data.testing_set), \\\n",
        "       \"The number of sentences in the training set + testing set should sum to the number of sentences in the corpus\""
      ],
      "execution_count": 5,
      "outputs": [
        {
          "output_type": "stream",
          "name": "stdout",
          "text": [
            "There are 57340 sentences in the corpus.\n",
            "There are 45872 sentences in the training set.\n",
            "There are 11468 sentences in the testing set.\n"
          ]
        }
      ]
    },
    {
      "cell_type": "markdown",
      "metadata": {
        "id": "LuH02wTo8Rzj"
      },
      "source": [
        "### The Dataset Interface\n",
        "\n",
        "You can access (mostly) immutable references to the dataset through a simple interface provided through the `Dataset` class, which represents an iterable collection of sentences along with easy access to partitions of the data for training & testing. Review the reference below, then run and review the next few cells to make sure you understand the interface before moving on to the next step.\n",
        "\n",
        "```\n",
        "Dataset-only Attributes:\n",
        "    training_set - reference to a Subset object containing the samples for training\n",
        "    testing_set - reference to a Subset object containing the samples for testing\n",
        "\n",
        "Dataset & Subset Attributes:\n",
        "    sentences - a dictionary with an entry {sentence_key: Sentence()} for each sentence in the corpus\n",
        "    keys - an immutable ordered (not sorted) collection of the sentence_keys for the corpus\n",
        "    vocab - an immutable collection of the unique words in the corpus\n",
        "    tagset - an immutable collection of the unique tags in the corpus\n",
        "    X - returns an array of words grouped by sentences ((w11, w12, w13, ...), (w21, w22, w23, ...), ...)\n",
        "    Y - returns an array of tags grouped by sentences ((t11, t12, t13, ...), (t21, t22, t23, ...), ...)\n",
        "    N - returns the number of distinct samples (individual words or tags) in the dataset\n",
        "\n",
        "Methods:\n",
        "    stream() - returns an flat iterable over all (word, tag) pairs across all sentences in the corpus\n",
        "    __iter__() - returns an iterable over the data as (sentence_key, Sentence()) pairs\n",
        "    __len__() - returns the nubmer of sentences in the dataset\n",
        "```\n",
        "\n",
        "For example, consider a Subset, `subset`, of the sentences `{\"s0\": Sentence((\"See\", \"Spot\", \"run\"), (\"VERB\", \"NOUN\", \"VERB\")), \"s1\": Sentence((\"Spot\", \"ran\"), (\"NOUN\", \"VERB\"))}`. The subset will have these attributes:\n",
        "\n",
        "```\n",
        "subset.keys == {\"s1\", \"s0\"}  # unordered\n",
        "subset.vocab == {\"See\", \"run\", \"ran\", \"Spot\"}  # unordered\n",
        "subset.tagset == {\"VERB\", \"NOUN\"}  # unordered\n",
        "subset.X == ((\"Spot\", \"ran\"), (\"See\", \"Spot\", \"run\"))  # order matches .keys\n",
        "subset.Y == ((\"NOUN\", \"VERB\"), (\"VERB\", \"NOUN\", \"VERB\"))  # order matches .keys\n",
        "subset.N == 7  # there are a total of seven observations over all sentences\n",
        "len(subset) == 2  # because there are two sentences\n",
        "```"
      ]
    },
    {
      "cell_type": "markdown",
      "metadata": {
        "id": "-71jJCFU8Rzl"
      },
      "source": [
        "**Note:** The `Dataset` class is _convenient_, but it is **not** efficient. It is not suitable for huge datasets because it stores multiple redundant copies of the same data.\n",
        "</div>"
      ]
    },
    {
      "cell_type": "markdown",
      "metadata": {
        "id": "G_4MKpMB8Rzn"
      },
      "source": [
        "#### Sentences\n",
        "\n",
        "`Dataset.sentences` is a dictionary of all sentences in the training corpus, each keyed to a unique sentence identifier. Each `Sentence` is itself an object with two attributes: a tuple of the words in the sentence named `words` and a tuple of the tag corresponding to each word named `tags`."
      ]
    },
    {
      "cell_type": "code",
      "metadata": {
        "id": "JEKeP1s38Rzp",
        "colab": {
          "base_uri": "https://localhost:8080/"
        },
        "outputId": "bbfd1dc7-c660-4009-a366-4f0f75e14387"
      },
      "source": [
        "key = 'b100-38532'\n",
        "print(\"Sentence: {}\".format(key))\n",
        "print(\"words:\\n\\t{!s}\".format(data.sentences[key].words))\n",
        "print(\"tags:\\n\\t{!s}\".format(data.sentences[key].tags))"
      ],
      "execution_count": 6,
      "outputs": [
        {
          "output_type": "stream",
          "name": "stdout",
          "text": [
            "Sentence: b100-38532\n",
            "words:\n",
            "\t('Perhaps', 'it', 'was', 'right', ';', ';')\n",
            "tags:\n",
            "\t('ADV', 'PRON', 'VERB', 'ADJ', '.', '.')\n"
          ]
        }
      ]
    },
    {
      "cell_type": "markdown",
      "metadata": {
        "id": "uJ5IvJM88Rzq"
      },
      "source": [
        "<div class=\"alert alert-block alert-info\">\n",
        "**Note:** The underlying iterable sequence is **unordered** over the sentences in the corpus; it is not guaranteed to return the sentences in a consistent order between calls. Use `Dataset.stream()`, `Dataset.keys`, `Dataset.X`, or `Dataset.Y` attributes if you need ordered access to the data.\n",
        "</div>\n",
        "\n",
        "#### Counting Unique Elements\n",
        "\n",
        "You can access the list of unique words (the dataset vocabulary) via `Dataset.vocab` and the unique list of tags via `Dataset.tagset`."
      ]
    },
    {
      "cell_type": "code",
      "metadata": {
        "id": "ZTPrmhEm8Rzr",
        "colab": {
          "base_uri": "https://localhost:8080/"
        },
        "outputId": "aef67881-d650-4585-bed0-03e6e0205b7b"
      },
      "source": [
        "# TODO: Complete the print statements\n",
        "\n",
        "print(\"There are a total of {} samples of {} unique words in the corpus.\"\n",
        "      .format(data.N, len(data.vocab)))\n",
        "print(\"There are {} samples of {} unique words in the training set.\"\n",
        "      .format(data.training_set.N, len(data.training_set.vocab)))\n",
        "print(\"There are {} samples of {} unique words in the testing set.\"\n",
        "      .format(data.testing_set.N, len(data.testing_set.vocab)))\n",
        "print(\"There are {} words in the test set that are missing in the training set.\"\n",
        "      .format(len(data.testing_set.vocab - data.training_set.vocab)))\n",
        "\n",
        "assert data.N == data.training_set.N + data.testing_set.N, \\\n",
        "       \"The number of training + test samples should sum to the total number of samples\""
      ],
      "execution_count": 7,
      "outputs": [
        {
          "output_type": "stream",
          "name": "stdout",
          "text": [
            "There are a total of 1161192 samples of 56057 unique words in the corpus.\n",
            "There are 928458 samples of 50536 unique words in the training set.\n",
            "There are 232734 samples of 25112 unique words in the testing set.\n",
            "There are 5521 words in the test set that are missing in the training set.\n"
          ]
        }
      ]
    },
    {
      "cell_type": "markdown",
      "metadata": {
        "id": "7sJd76e28Rzs"
      },
      "source": [
        "#### Accessing word and tag Sequences\n",
        "The `Dataset.X` and `Dataset.Y` attributes provide access to ordered collections of matching word and tag sequences for each sentence in the dataset."
      ]
    },
    {
      "cell_type": "code",
      "metadata": {
        "id": "I7DtCjwJ8Rzt",
        "colab": {
          "base_uri": "https://localhost:8080/"
        },
        "outputId": "c2aa37e3-f1e5-4bb4-af26-61e153c59d28"
      },
      "source": [
        "# accessing words with Dataset.X and tags with Dataset.Y \n",
        "for i in range(2):    \n",
        "    print(\"Sentence {}:\".format(i + 1), data.X[i])\n",
        "    print()\n",
        "    print(\"Labels {}:\".format(i + 1), data.Y[i])\n",
        "    print()"
      ],
      "execution_count": 8,
      "outputs": [
        {
          "output_type": "stream",
          "name": "stdout",
          "text": [
            "Sentence 1: ('Mr.', 'Podger', 'had', 'thanked', 'him', 'gravely', ',', 'and', 'now', 'he', 'made', 'use', 'of', 'the', 'advice', '.')\n",
            "\n",
            "Labels 1: ('NOUN', 'NOUN', 'VERB', 'VERB', 'PRON', 'ADV', '.', 'CONJ', 'ADV', 'PRON', 'VERB', 'NOUN', 'ADP', 'DET', 'NOUN', '.')\n",
            "\n",
            "Sentence 2: ('But', 'there', 'seemed', 'to', 'be', 'some', 'difference', 'of', 'opinion', 'as', 'to', 'how', 'far', 'the', 'board', 'should', 'go', ',', 'and', 'whose', 'advice', 'it', 'should', 'follow', '.')\n",
            "\n",
            "Labels 2: ('CONJ', 'PRT', 'VERB', 'PRT', 'VERB', 'DET', 'NOUN', 'ADP', 'NOUN', 'ADP', 'ADP', 'ADV', 'ADV', 'DET', 'NOUN', 'VERB', 'VERB', '.', 'CONJ', 'DET', 'NOUN', 'PRON', 'VERB', 'VERB', '.')\n",
            "\n"
          ]
        }
      ]
    },
    {
      "cell_type": "markdown",
      "metadata": {
        "id": "OBrGO2FT8Rzu"
      },
      "source": [
        "#### Accessing (word, tag) Samples\n",
        "The `Dataset.stream()` method returns an iterator that chains together every pair of (word, tag) entries across all sentences in the entire corpus."
      ]
    },
    {
      "cell_type": "code",
      "metadata": {
        "id": "Tj0RaMgx8Rzv",
        "colab": {
          "base_uri": "https://localhost:8080/"
        },
        "outputId": "0c92c1b5-2f86-452c-a347-79c946becbd3"
      },
      "source": [
        "# use Dataset.stream() (word, tag) samples for the entire corpus\n",
        "print(\"\\nStream (word, tag) pairs:\\n\")\n",
        "for i, pair in enumerate(data.stream()):\n",
        "    print(\"\\t\", pair)\n",
        "    if i > 5: break"
      ],
      "execution_count": 9,
      "outputs": [
        {
          "output_type": "stream",
          "name": "stdout",
          "text": [
            "\n",
            "Stream (word, tag) pairs:\n",
            "\n",
            "\t ('Mr.', 'NOUN')\n",
            "\t ('Podger', 'NOUN')\n",
            "\t ('had', 'VERB')\n",
            "\t ('thanked', 'VERB')\n",
            "\t ('him', 'PRON')\n",
            "\t ('gravely', 'ADV')\n",
            "\t (',', '.')\n"
          ]
        }
      ]
    },
    {
      "cell_type": "markdown",
      "metadata": {
        "id": "0IEcgeW98Rzw"
      },
      "source": [
        "\n",
        "For both our baseline tagger and the HMM model we'll build, we need to estimate the frequency of tags & words from the frequency counts of observations in the training corpus. In the next several cells you will complete functions to compute the counts of several sets of counts. "
      ]
    },
    {
      "cell_type": "markdown",
      "metadata": {
        "id": "pPe8n2KU8Rzw"
      },
      "source": [
        "## Step 2: Build a Most Frequent Class tagger\n",
        "---\n",
        "\n",
        "Perhaps the simplest tagger (and a good baseline for tagger performance) is to simply choose the tag most frequently assigned to each word. This \"most frequent class\" tagger inspects each observed word in the sequence and assigns it the label that was most often assigned to that word in the corpus."
      ]
    },
    {
      "cell_type": "markdown",
      "metadata": {
        "id": "otru4rIl8Rzx"
      },
      "source": [
        "### IMPLEMENTATION: Pair Counts\n",
        "\n",
        "Complete the function below that computes the joint frequency counts for two input sequences."
      ]
    },
    {
      "cell_type": "code",
      "metadata": {
        "id": "5L0NbgSa8Rzx",
        "colab": {
          "base_uri": "https://localhost:8080/",
          "height": 34
        },
        "outputId": "5e6b3c94-6305-400a-a0ec-4b5d8921d6cb"
      },
      "source": [
        "def pair_counts(d, sequences_A, sequences_B):\n",
        "    \"\"\"Return a dictionary keyed to each unique value in the first sequence list\n",
        "    that counts the number of occurrences of the corresponding value from the\n",
        "    second sequences list.\n",
        "    \n",
        "    For example, if sequences_A is tags and sequences_B is the corresponding\n",
        "    words, then if 1244 sequences contain the word \"time\" tagged as a NOUN, then\n",
        "    you should return a dictionary such that pair_counts[NOUN][time] == 1244\n",
        "    \"\"\"\n",
        "    # TODO: Finish this function!\n",
        "    for i in range(len(sequences_A)):\n",
        "      if ((sequences_A[i] in d) and (sequences_B[i] in d[sequences_A[i]])):\n",
        "        d[sequences_A[i]][sequences_B[i]] = d[sequences_A[i]][sequences_B[i]] + 1\n",
        "      else:\n",
        "        d[sequences_A[i]][sequences_B[i]] = 1\n",
        "    return d\n",
        "\n",
        "    \n",
        "# Calculate C(t_i, w_i)\n",
        "d = {}\n",
        "for i in data.training_set.tagset:\n",
        "    d[i] = {}\n",
        "        \n",
        "a = [item for sublist in data.training_set.Y for item in sublist]\n",
        "b = [item for sublist in data.training_set.X for item in sublist]\n",
        "\n",
        "emission_counts = pair_counts(d, a, b)\n",
        "\n",
        "assert len(emission_counts) == 12, \\\n",
        "       \"Uh oh. There should be 12 tags in your dictionary.\"\n",
        "assert max(emission_counts[\"NOUN\"], key=emission_counts[\"NOUN\"].get) == 'time', \\\n",
        "       \"Hmmm...'time' is expected to be the most common NOUN.\"\n",
        "HTML('<div class=\"alert alert-block alert-success\">Your emission counts look good!</div>')"
      ],
      "execution_count": 10,
      "outputs": [
        {
          "output_type": "execute_result",
          "data": {
            "text/html": [
              "<div class=\"alert alert-block alert-success\">Your emission counts look good!</div>"
            ],
            "text/plain": [
              "<IPython.core.display.HTML object>"
            ]
          },
          "metadata": {},
          "execution_count": 10
        }
      ]
    },
    {
      "cell_type": "markdown",
      "metadata": {
        "id": "gwv_JEhM8Rzy"
      },
      "source": [
        "### IMPLEMENTATION: Most Frequent Class Tagger\n",
        "\n",
        "Use the `pair_counts()` function and the training dataset to find the most frequent class label for each word in the training data, and populate the `mfc_table` below. The table keys should be words, and the values should be the appropriate tag string.\n",
        "\n",
        "The `MFCTagger` class is provided to mock the interface of Pomegranite HMM models so that they can be used interchangeably."
      ]
    },
    {
      "cell_type": "code",
      "metadata": {
        "id": "xtXSzrjK8Rzz",
        "colab": {
          "base_uri": "https://localhost:8080/",
          "height": 34
        },
        "outputId": "263431d7-37bb-46f7-efae-10d991005534"
      },
      "source": [
        "# Create a lookup table \"mfc_table\" where mfc_table[word] contains the tag label most frequently assigned to that word\n",
        "\n",
        "from collections import namedtuple\n",
        "import operator\n",
        "FakeState = namedtuple(\"FakeState\", \"name\")\n",
        "\n",
        "class MFCTagger:\n",
        "    # NOTE: You should not need to modify this class or any of its methods\n",
        "    missing = FakeState(name=\"<MISSING>\")\n",
        "    \n",
        "    def __init__(self, table):\n",
        "        self.table = defaultdict(lambda: MFCTagger.missing)\n",
        "        self.table.update({word: FakeState(name=tag) for word, tag in table.items()})\n",
        "        \n",
        "    def viterbi(self, seq):\n",
        "        \"\"\"This method simplifies predictions by matching the Pomegranate viterbi() interface\"\"\"\n",
        "        return 0., list(enumerate([\"<start>\"] + [self.table[w] for w in seq] + [\"<end>\"]))\n",
        "\n",
        "\n",
        "# TODO: calculate the frequency of each tag being assigned to each word (hint: similar, but not\n",
        "# the same as the emission probabilities) and use it to fill the \"mfc_table\"\n",
        "x = [data for dataset in data.training_set.X for data in dataset]\n",
        "y = [data for dataset in data.training_set.Y for data in dataset]\n",
        "\n",
        "dictionary = {}\n",
        "for i in data.training_set.vocab:\n",
        "    dictionary[i] = {}\n",
        "\n",
        "word_counts = pair_counts(dictionary, x, y)\n",
        "\n",
        "mfc_table = {}\n",
        "lst = list(data.training_set.vocab)\n",
        "for i in lst:\n",
        "    mfc_table[i] = max(word_counts[i].items(),  key = operator.itemgetter(1))[0] \n",
        "\n",
        "# DO NOT MODIFY BELOW THIS LINE\n",
        "mfc_model = MFCTagger(mfc_table) # Create a Most Frequent Class tagger instance\n",
        "\n",
        "assert len(mfc_table) == len(data.training_set.vocab), \"\"\n",
        "assert all(k in data.training_set.vocab for k in mfc_table.keys()), \"\"\n",
        "assert sum(int(k not in mfc_table) for k in data.testing_set.vocab) == 5521, \"\"\n",
        "HTML('<div class=\"alert alert-block alert-success\">Your MFC tagger has all the correct words!</div>')"
      ],
      "execution_count": 11,
      "outputs": [
        {
          "output_type": "execute_result",
          "data": {
            "text/html": [
              "<div class=\"alert alert-block alert-success\">Your MFC tagger has all the correct words!</div>"
            ],
            "text/plain": [
              "<IPython.core.display.HTML object>"
            ]
          },
          "metadata": {},
          "execution_count": 11
        }
      ]
    },
    {
      "cell_type": "markdown",
      "metadata": {
        "id": "3WvB--vp8Rzz"
      },
      "source": [
        "### Making Predictions with a Model\n",
        "The helper functions provided below interface with Pomegranate network models & the mocked MFCTagger to take advantage of the [missing value](http://pomegranate.readthedocs.io/en/latest/nan.html) functionality in Pomegranate through a simple sequence decoding function. Run these functions, then run the next cell to see some of the predictions made by the MFC tagger."
      ]
    },
    {
      "cell_type": "code",
      "metadata": {
        "id": "vCDLiKYN8Rz0"
      },
      "source": [
        "def replace_unknown(sequence):\n",
        "    \"\"\"Return a copy of the input sequence where each unknown word is replaced\n",
        "    by the literal string value 'nan'. Pomegranate will ignore these values\n",
        "    during computation.\n",
        "    \"\"\"\n",
        "    # for seq in sequence:\n",
        "    #   if seq in data.training_set.vocab:\n",
        "    #     return seq\n",
        "    #   else:\n",
        "    #     return 'nan'\n",
        "    return [w if w in data.training_set.vocab else 'nan' for w in sequence]\n",
        "    \n",
        "\n",
        "def simplify_decoding(X, model):\n",
        "    \"\"\"X should be a 1-D sequence of observations for the model to predict\"\"\"\n",
        "    _, state_path = model.viterbi(replace_unknown(X))\n",
        "    return [state[1].name for state in state_path[1:-1]]  # do not show the start/end state predictions"
      ],
      "execution_count": 12,
      "outputs": []
    },
    {
      "cell_type": "markdown",
      "metadata": {
        "id": "mYjgmlLX8Rz1"
      },
      "source": [
        "### Example Decoding Sequences with MFC Tagger"
      ]
    },
    {
      "cell_type": "code",
      "metadata": {
        "id": "Q7QnLqJ48Rz1",
        "colab": {
          "base_uri": "https://localhost:8080/"
        },
        "outputId": "bd5e0d01-ed98-4137-aa30-888427c1b8ea"
      },
      "source": [
        "for key in data.testing_set.keys[:3]:\n",
        "    print(\"Sentence Key: {}\\n\".format(key))\n",
        "    print(\"Predicted labels:\\n-----------------\")\n",
        "    print(simplify_decoding(data.sentences[key].words, mfc_model))\n",
        "    print()\n",
        "    print(\"Actual labels:\\n--------------\")\n",
        "    print(data.sentences[key].tags)\n",
        "    print(\"\\n\")"
      ],
      "execution_count": 13,
      "outputs": [
        {
          "output_type": "stream",
          "name": "stdout",
          "text": [
            "Sentence Key: b100-28144\n",
            "\n",
            "Predicted labels:\n",
            "-----------------\n",
            "['CONJ', 'NOUN', 'NUM', '.', 'NOUN', 'NUM', '.', 'NOUN', 'NUM', '.', 'CONJ', 'NOUN', 'NUM', '.', '.', 'NOUN', '.', '.']\n",
            "\n",
            "Actual labels:\n",
            "--------------\n",
            "('CONJ', 'NOUN', 'NUM', '.', 'NOUN', 'NUM', '.', 'NOUN', 'NUM', '.', 'CONJ', 'NOUN', 'NUM', '.', '.', 'NOUN', '.', '.')\n",
            "\n",
            "\n",
            "Sentence Key: b100-23146\n",
            "\n",
            "Predicted labels:\n",
            "-----------------\n",
            "['PRON', 'VERB', 'DET', 'NOUN', 'ADP', 'ADJ', 'ADJ', 'NOUN', 'VERB', 'VERB', '.', 'ADP', 'VERB', 'DET', 'NOUN', 'ADP', 'NOUN', 'ADP', 'DET', 'NOUN', '.']\n",
            "\n",
            "Actual labels:\n",
            "--------------\n",
            "('PRON', 'VERB', 'DET', 'NOUN', 'ADP', 'ADJ', 'ADJ', 'NOUN', 'VERB', 'VERB', '.', 'ADP', 'VERB', 'DET', 'NOUN', 'ADP', 'NOUN', 'ADP', 'DET', 'NOUN', '.')\n",
            "\n",
            "\n",
            "Sentence Key: b100-35462\n",
            "\n",
            "Predicted labels:\n",
            "-----------------\n",
            "['DET', 'ADJ', 'NOUN', 'VERB', 'VERB', 'VERB', 'ADP', 'DET', 'ADJ', 'ADJ', 'NOUN', 'ADP', 'DET', 'ADJ', 'NOUN', '.', 'ADP', 'ADJ', 'NOUN', '.', 'CONJ', 'ADP', 'DET', '<MISSING>', 'ADP', 'ADJ', 'ADJ', '.', 'ADJ', '.', 'CONJ', 'ADJ', 'NOUN', 'ADP', 'ADV', 'NOUN', '.']\n",
            "\n",
            "Actual labels:\n",
            "--------------\n",
            "('DET', 'ADJ', 'NOUN', 'VERB', 'VERB', 'VERB', 'ADP', 'DET', 'ADJ', 'ADJ', 'NOUN', 'ADP', 'DET', 'ADJ', 'NOUN', '.', 'ADP', 'ADJ', 'NOUN', '.', 'CONJ', 'ADP', 'DET', 'NOUN', 'ADP', 'ADJ', 'ADJ', '.', 'ADJ', '.', 'CONJ', 'ADJ', 'NOUN', 'ADP', 'ADJ', 'NOUN', '.')\n",
            "\n",
            "\n"
          ]
        }
      ]
    },
    {
      "cell_type": "markdown",
      "metadata": {
        "id": "opmo4IIo8Rz1"
      },
      "source": [
        "### Evaluating Model Accuracy\n",
        "\n",
        "The function below will evaluate the accuracy of the MFC tagger on the collection of all sentences from a text corpus. "
      ]
    },
    {
      "cell_type": "code",
      "metadata": {
        "id": "o_jemm6M8Rz2"
      },
      "source": [
        "def accuracy(X, Y, model):\n",
        "    \"\"\"Calculate the prediction accuracy by using the model to decode each sequence\n",
        "    in the input X and comparing the prediction with the true labels in Y.\n",
        "    \n",
        "    The X should be an array whose first dimension is the number of sentences to test,\n",
        "    and each element of the array should be an iterable of the words in the sequence.\n",
        "    The arrays X and Y should have the exact same shape.\n",
        "    \n",
        "    X = [(\"See\", \"Spot\", \"run\"), (\"Run\", \"Spot\", \"run\", \"fast\"), ...]\n",
        "    Y = [(), (), ...]\n",
        "    \"\"\"\n",
        "    correct = total_predictions = 0\n",
        "    for observations, actual_tags in zip(X, Y):\n",
        "        \n",
        "        # The model.viterbi call in simplify_decoding will return None if the HMM\n",
        "        # raises an error (for example, if a test sentence contains a word that\n",
        "        # is out of vocabulary for the training set). Any exception counts the\n",
        "        # full sentence as an error (which makes this a conservative estimate).\n",
        "        try:\n",
        "            most_likely_tags = simplify_decoding(observations, model)\n",
        "            correct += sum(p == t for p, t in zip(most_likely_tags, actual_tags))\n",
        "        except:\n",
        "            pass\n",
        "        total_predictions += len(observations)\n",
        "    return correct / total_predictions"
      ],
      "execution_count": 14,
      "outputs": []
    },
    {
      "cell_type": "markdown",
      "metadata": {
        "id": "YvlUn9LH8Rz2"
      },
      "source": [
        "#### Evaluate the accuracy of the MFC tagger\n",
        "Evaluate the accuracy of the tagger on the training and test corpus."
      ]
    },
    {
      "cell_type": "code",
      "metadata": {
        "id": "bt7BD5_m8Rz2",
        "colab": {
          "base_uri": "https://localhost:8080/",
          "height": 69
        },
        "outputId": "dedd5519-d775-4ab6-ac0d-0d46895bb920"
      },
      "source": [
        "# Complete the code\n",
        "mfc_training_acc = accuracy(data.training_set.X, data.training_set.Y, mfc_model)\n",
        "print(\"training accuracy mfc_model: {:.2f}%\".format(100 * mfc_training_acc))\n",
        "\n",
        "mfc_testing_acc = accuracy(data.testing_set.X, data.testing_set.Y, mfc_model)\n",
        "print(\"testing accuracy mfc_model: {:.2f}%\".format(100 * mfc_testing_acc))\n",
        "\n",
        "assert mfc_training_acc >= 0.955, \"Uh oh. Your MFC accuracy on the training set doesn't look right.\"\n",
        "assert mfc_testing_acc >= 0.925, \"Uh oh. Your MFC accuracy on the testing set doesn't look right.\"\n",
        "HTML('<div class=\"alert alert-block alert-success\">Your MFC tagger accuracy looks correct!</div>')"
      ],
      "execution_count": 15,
      "outputs": [
        {
          "output_type": "stream",
          "name": "stdout",
          "text": [
            "training accuracy mfc_model: 95.72%\n",
            "testing accuracy mfc_model: 93.01%\n"
          ]
        },
        {
          "output_type": "execute_result",
          "data": {
            "text/html": [
              "<div class=\"alert alert-block alert-success\">Your MFC tagger accuracy looks correct!</div>"
            ],
            "text/plain": [
              "<IPython.core.display.HTML object>"
            ]
          },
          "metadata": {},
          "execution_count": 15
        }
      ]
    },
    {
      "cell_type": "markdown",
      "metadata": {
        "id": "KEugsl5D8Rz3"
      },
      "source": [
        "## Step 3: Build an HMM tagger\n",
        "---\n",
        "The HMM tagger has one hidden state for each possible tag, and parameterized by two distributions: the emission probabilties giving the conditional probability of observing a given **word** from each hidden state, and the transition probabilities giving the conditional probability of moving between **tags** during the sequence.\n",
        "\n",
        "We will also estimate the starting probability distribution (the probability of each **tag** being the first tag in a sequence), and the terminal probability distribution (the probability of each **tag** being the last tag in a sequence).\n",
        "\n",
        "The maximum likelihood estimate of these distributions can be calculated from the frequency counts as described in the following sections where you'll implement functions to count the frequencies, and finally build the model. The HMM model will make predictions according to the formula:\n",
        "\n",
        "$$t_i^n = \\underset{t_i^n}{\\mathrm{argmax}} \\prod_{i=1}^n P(w_i|t_i) P(t_i|t_{i-1})$$\n",
        "\n",
        "Refer to Speech & Language Processing [Chapter 10](https://web.stanford.edu/~jurafsky/slp3/10.pdf) for more information."
      ]
    },
    {
      "cell_type": "markdown",
      "metadata": {
        "id": "98W79LIw8Rz3"
      },
      "source": [
        "### IMPLEMENTATION: Unigram Counts\n",
        "\n",
        "Complete the function below to estimate the co-occurrence frequency of each symbol over all of the input sequences. The unigram probabilities in our HMM model are estimated from the formula below, where N is the total number of samples in the input. (You only need to compute the counts for now.)\n",
        "\n",
        "$$P(tag_1) = \\frac{C(tag_1)}{N}$$"
      ]
    },
    {
      "cell_type": "code",
      "metadata": {
        "id": "ImrXNDhv8Rz3",
        "colab": {
          "base_uri": "https://localhost:8080/",
          "height": 34
        },
        "outputId": "19167f7f-780f-4d5a-eb87-4c287fe68866"
      },
      "source": [
        "import collections\n",
        "\n",
        "def unigram_counts(sequences):\n",
        "    \"\"\"Return a dictionary keyed to each unique value in the input sequence list that\n",
        "    counts the number of occurrences of the value in the sequences list. The sequences\n",
        "    collection should be a 2-dimensional array.\n",
        "    \n",
        "    For example, if the tag NOUN appears 275558 times over all the input sequences,\n",
        "    then you should return a dictionary such that your_unigram_counts[NOUN] == 275558.\n",
        "    \"\"\"\n",
        "    # TODO: Finish this function!\n",
        "    keyed_dict = collections.Counter(sequences) \n",
        "    return keyed_dict\n",
        "\n",
        "# TODO: call unigram_counts with a list of tag sequences from the training set and name the variable \"tag_unigrams\"\n",
        "tag_unigrams = unigram_counts([data for dataset in data.training_set.Y for data in dataset])\n",
        "\n",
        "assert set(tag_unigrams.keys()) == data.training_set.tagset, \\\n",
        "       \"Uh oh. It looks like your tag counts doesn't include all the tags!\"\n",
        "assert min(tag_unigrams, key=tag_unigrams.get) == 'X', \\\n",
        "       \"Hmmm...'X' is expected to be the least common class\"\n",
        "assert max(tag_unigrams, key=tag_unigrams.get) == 'NOUN', \\\n",
        "       \"Hmmm...'NOUN' is expected to be the most common class\"\n",
        "HTML('<div class=\"alert alert-block alert-success\">Your tag unigrams look good!</div>')"
      ],
      "execution_count": 16,
      "outputs": [
        {
          "output_type": "execute_result",
          "data": {
            "text/html": [
              "<div class=\"alert alert-block alert-success\">Your tag unigrams look good!</div>"
            ],
            "text/plain": [
              "<IPython.core.display.HTML object>"
            ]
          },
          "metadata": {},
          "execution_count": 16
        }
      ]
    },
    {
      "cell_type": "markdown",
      "metadata": {
        "id": "f8pYveJu8Rz4"
      },
      "source": [
        "### IMPLEMENTATION: Bigram Counts\n",
        "\n",
        "Complete the function below to estimate the co-occurrence frequency of each pair of symbols in each of the input sequences. These counts are used in the HMM model to estimate the bigram probability of two tags from the frequency counts according to the formula: $$P(tag_2|tag_1) = \\frac{C(tag_2|tag_1)}{C(tag_2)}$$\n"
      ]
    },
    {
      "cell_type": "code",
      "metadata": {
        "id": "9xOdqC2h8Rz4",
        "colab": {
          "base_uri": "https://localhost:8080/",
          "height": 34
        },
        "outputId": "c9475152-2c1b-44da-9e69-3ed903e508be"
      },
      "source": [
        "def bigram_counts(sequences):\n",
        "\n",
        "    \"\"\"Return a dictionary keyed to each unique PAIR of values in the input sequences\n",
        "    list that counts the number of occurrences of pair in the sequences list. The input\n",
        "    should be a 2-dimensional array.\n",
        "    \n",
        "    For example, if the pair of tags (NOUN, VERB) appear 61582 times, then you should\n",
        "    return a dictionary such that your_bigram_counts[(NOUN, VERB)] == 61582\n",
        "    \"\"\"\n",
        "    # TODO: Finish this function!\n",
        "    dictionary = {}\n",
        "    for i in data.training_set.tagset:\n",
        "      for j in data.training_set.tagset:\n",
        "        dictionary[(i, j)] = 0\n",
        "\n",
        "    for i in range(len(sequences) - 1):\n",
        "      dictionary[(sequences[i], sequences[i+1])] = dictionary[(sequences[i], sequences[i+1])] + 1                      \n",
        "    return dictionary\n",
        "\n",
        "# TODO: call bigram_counts with a list of tag sequences from the training set and name the variable \"tag_bigrams\"\n",
        "tag_bigrams = bigram_counts([data for dataset in data.training_set.Y for data in dataset])\n",
        "\n",
        "assert len(tag_bigrams) == 144, \\\n",
        "       \"Uh oh. There should be 144 pairs of bigrams (12 tags x 12 tags)\"\n",
        "assert min(tag_bigrams, key=tag_bigrams.get) in [('X', 'NUM'), ('PRON', 'X')], \\\n",
        "       \"Hmmm...The least common bigram should be one of ('X', 'NUM') or ('PRON', 'X').\"\n",
        "assert max(tag_bigrams, key=tag_bigrams.get) in [('DET', 'NOUN')], \\\n",
        "       \"Hmmm...('DET', 'NOUN') is expected to be the most common bigram.\"\n",
        "HTML('<div class=\"alert alert-block alert-success\">Your tag bigrams look good!</div>')"
      ],
      "execution_count": 17,
      "outputs": [
        {
          "output_type": "execute_result",
          "data": {
            "text/html": [
              "<div class=\"alert alert-block alert-success\">Your tag bigrams look good!</div>"
            ],
            "text/plain": [
              "<IPython.core.display.HTML object>"
            ]
          },
          "metadata": {},
          "execution_count": 17
        }
      ]
    },
    {
      "cell_type": "markdown",
      "metadata": {
        "id": "G8dJyMR68Rz4"
      },
      "source": [
        "### IMPLEMENTATION: Sequence Starting Counts\n",
        "Complete the code below to estimate the bigram probabilities of a sequence starting with each tag."
      ]
    },
    {
      "cell_type": "code",
      "metadata": {
        "id": "2d5DUrQP8Rz4",
        "colab": {
          "base_uri": "https://localhost:8080/",
          "height": 34
        },
        "outputId": "c3a35a4f-a37b-4644-e35f-f7d7bae987d1"
      },
      "source": [
        "def starting_counts(sequences):\n",
        "    \"\"\"Return a dictionary keyed to each unique value in the input sequences list\n",
        "    that counts the number of occurrences where that value is at the beginning of\n",
        "    a sequence.\n",
        "    \n",
        "    For example, if 8093 sequences start with NOUN, then you should return a\n",
        "    dictionary such that your_starting_counts[NOUN] == 8093\n",
        "    \"\"\"\n",
        "    # TODO: Finish this function!\n",
        "    dictionary = {}\n",
        "    for i in range(len(sequences)):\n",
        "        dictionary[sequences[i][0]] = dictionary.get(sequences[i][0], 0) + 1\n",
        "    return dictionary\n",
        "    \n",
        "# TODO: Calculate the count of each tag starting a sequence and name it tag_starts\n",
        "tag_starts = starting_counts(data.training_set.Y)\n",
        "\n",
        "assert len(tag_starts) == 12, \"Uh oh. There should be 12 tags in your dictionary.\"\n",
        "assert min(tag_starts, key=tag_starts.get) == 'X', \"Hmmm...'X' is expected to be the least common starting bigram.\"\n",
        "assert max(tag_starts, key=tag_starts.get) == 'DET', \"Hmmm...'DET' is expected to be the most common starting bigram.\"\n",
        "HTML('<div class=\"alert alert-block alert-success\">Your starting tag counts look good!</div>')"
      ],
      "execution_count": 18,
      "outputs": [
        {
          "output_type": "execute_result",
          "data": {
            "text/html": [
              "<div class=\"alert alert-block alert-success\">Your starting tag counts look good!</div>"
            ],
            "text/plain": [
              "<IPython.core.display.HTML object>"
            ]
          },
          "metadata": {},
          "execution_count": 18
        }
      ]
    },
    {
      "cell_type": "markdown",
      "metadata": {
        "id": "I1yOJYpw8Rz5"
      },
      "source": [
        "### IMPLEMENTATION: Sequence Ending Counts\n",
        "Complete the function below to estimate the bigram probabilities of a sequence ending with each tag."
      ]
    },
    {
      "cell_type": "code",
      "metadata": {
        "id": "5qKsbrYD8Rz5",
        "colab": {
          "base_uri": "https://localhost:8080/",
          "height": 34
        },
        "outputId": "28ecda98-0052-4c56-9315-d0e7b8ee692c"
      },
      "source": [
        "def ending_counts(sequences):\n",
        "    \"\"\"Return a dictionary keyed to each unique value in the input sequences list\n",
        "    that counts the number of occurrences where that value is at the end of\n",
        "    a sequence.\n",
        "    \n",
        "    For example, if 18 sequences end with DET, then you should return a\n",
        "    dictionary such that your_starting_counts[DET] == 18\n",
        "    \"\"\"\n",
        "    # TODO: Finish this function!\n",
        "    dictionary = {}\n",
        "    for i in range(len(sequences)):\n",
        "        dictionary[sequences[i][-1]] = dictionary.get(sequences[i][-1], 0) + 1\n",
        "    return dictionary\n",
        "\n",
        "# TODO: Calculate the count of each tag ending a sequence and name it tag_ends\n",
        "tag_ends = ending_counts(data.training_set.Y)\n",
        "\n",
        "assert len(tag_ends) == 12, \"Uh oh. There should be 12 tags in your dictionary.\"\n",
        "assert min(tag_ends, key=tag_ends.get) in ['X', 'CONJ'], \"Hmmm...'X' or 'CONJ' should be the least common ending bigram.\"\n",
        "assert max(tag_ends, key=tag_ends.get) == '.', \"Hmmm...'.' is expected to be the most common ending bigram.\"\n",
        "HTML('<div class=\"alert alert-block alert-success\">Your ending tag counts look good!</div>')"
      ],
      "execution_count": 19,
      "outputs": [
        {
          "output_type": "execute_result",
          "data": {
            "text/html": [
              "<div class=\"alert alert-block alert-success\">Your ending tag counts look good!</div>"
            ],
            "text/plain": [
              "<IPython.core.display.HTML object>"
            ]
          },
          "metadata": {},
          "execution_count": 19
        }
      ]
    },
    {
      "cell_type": "markdown",
      "metadata": {
        "id": "CW8hhN8e8Rz5"
      },
      "source": [
        "### IMPLEMENTATION: Basic HMM Tagger\n",
        "Use the tag unigrams and bigrams calculated above to construct a hidden Markov tagger.\n",
        "\n",
        "- Add one state per tag\n",
        "    - The emission distribution at each state should be estimated with the formula: $P(w|t) = \\frac{C(t, w)}{C(t)}$\n",
        "- Add an edge from the starting state `basic_model.start` to each tag\n",
        "    - The transition probability should be estimated with the formula: $P(t|start) = \\frac{C(start, t)}{C(start)}$\n",
        "- Add an edge from each tag to the end state `basic_model.end`\n",
        "    - The transition probability should be estimated with the formula: $P(end|t) = \\frac{C(t, end)}{C(t)}$\n",
        "- Add an edge between _every_ pair of tags\n",
        "    - The transition probability should be estimated with the formula: $P(t_2|t_1) = \\frac{C(t_1, t_2)}{C(t_1)}$"
      ]
    },
    {
      "cell_type": "code",
      "metadata": {
        "id": "VHJ6693E8Rz6",
        "colab": {
          "base_uri": "https://localhost:8080/",
          "height": 34
        },
        "outputId": "79168bad-e957-408c-f743-476de71b6501"
      },
      "source": [
        "basic_model = HiddenMarkovModel(name=\"base-hmm-tagger\")\n",
        "# Create states with emission probability distributions P(word | tag) and add to the model\n",
        "# We have done this for you to help you get started.\n",
        "states_list = {}\n",
        "for i in tag_unigrams.keys():\n",
        "    for j in emission_counts[i].keys():\n",
        "        emission_counts[i][j] = emission_counts[i].get(j)/tag_unigrams[i]\n",
        "        \n",
        "    dic = emission_counts[i]\n",
        "    emissions = DiscreteDistribution(dic)\n",
        "    state = State(emissions, name=i)\n",
        "    basic_model.add_state(state)\n",
        "    states_list[i] = state\n",
        "\n",
        "# TODO: add edges between states for the observed transition frequencies P(tag_i | tag_i-1)\n",
        "# (Hint: you may need to loop & add transitions)\n",
        "# Step 1: Add an edge from the starting state basic_model.start to each tag\n",
        "start = 0\n",
        "for i in tag_starts.keys():\n",
        "    start = start + tag_starts.get(i,0)\n",
        "    \n",
        "for i in tag_unigrams.keys():\n",
        "    basic_model.add_transition(basic_model.start, states_list[i], tag_starts.get(i)/start)\n",
        "\n",
        "# Step 2: Add an edge from each tag to the end state basic_model.end\n",
        "end = 0\n",
        "for i in tag_ends.keys():\n",
        "    end = end + tag_ends.get(i,0)\n",
        "    \n",
        "for i in tag_ends.keys():\n",
        "    basic_model.add_transition(states_list[i], basic_model.end, tag_ends.get(i)/end)\n",
        "\n",
        "# Step 3: Add an edge between every pair of tags\n",
        "edge = 0\n",
        "for i in tag_unigrams.keys():\n",
        "    for j in tag_unigrams.keys():\n",
        "        edge = edge + tag_bigrams.get((i,j))\n",
        "        \n",
        "for i in tag_unigrams.keys():\n",
        "    for j in tag_unigrams.keys():\n",
        "        basic_model.add_transition(states_list[i], states_list[j], tag_bigrams.get((i,j))/edge)\n",
        "\n",
        "# NOTE: YOU SHOULD NOT NEED TO MODIFY ANYTHING BELOW THIS LINE\n",
        "# finalize the model\n",
        "basic_model.bake()\n",
        "\n",
        "assert all(tag in set(s.name for s in basic_model.states) for tag in data.training_set.tagset), \\\n",
        "       \"Every state in your network should use the name of the associated tag, which must be one of the training set tags.\"\n",
        "assert basic_model.edge_count() == 168, \\\n",
        "       (\"Your network should have an edge from the start node to each state, one edge between every \" +\n",
        "        \"pair of tags (states), and an edge from each state to the end node.\")\n",
        "HTML('<div class=\"alert alert-block alert-success\">Your HMM network topology looks good!</div>')"
      ],
      "execution_count": 20,
      "outputs": [
        {
          "output_type": "execute_result",
          "data": {
            "text/html": [
              "<div class=\"alert alert-block alert-success\">Your HMM network topology looks good!</div>"
            ],
            "text/plain": [
              "<IPython.core.display.HTML object>"
            ]
          },
          "metadata": {},
          "execution_count": 20
        }
      ]
    },
    {
      "cell_type": "code",
      "metadata": {
        "scrolled": true,
        "id": "j-0rJy5x8Rz6",
        "colab": {
          "base_uri": "https://localhost:8080/",
          "height": 69
        },
        "outputId": "03525c6d-9a83-45e6-b85d-31ba4e5043d5"
      },
      "source": [
        "hmm_training_acc = accuracy(data.training_set.X, data.training_set.Y, basic_model)\n",
        "print(\"training accuracy basic hmm model: {:.2f}%\".format(100 * hmm_training_acc))\n",
        "\n",
        "hmm_testing_acc = accuracy(data.testing_set.X, data.testing_set.Y, basic_model)\n",
        "print(\"testing accuracy basic hmm model: {:.2f}%\".format(100 * hmm_testing_acc))\n",
        "\n",
        "assert hmm_training_acc > 0.97, \"Uh oh. Your HMM accuracy on the training set doesn't look right.\"\n",
        "assert hmm_testing_acc > 0.955, \"Uh oh. Your HMM accuracy on the testing set doesn't look right.\"\n",
        "HTML('<div class=\"alert alert-block alert-success\">Your HMM tagger accuracy looks correct! Congratulations, you\\'ve finished the project.</div>')"
      ],
      "execution_count": 21,
      "outputs": [
        {
          "output_type": "stream",
          "name": "stdout",
          "text": [
            "training accuracy basic hmm model: 97.52%\n",
            "testing accuracy basic hmm model: 95.97%\n"
          ]
        },
        {
          "output_type": "execute_result",
          "data": {
            "text/html": [
              "<div class=\"alert alert-block alert-success\">Your HMM tagger accuracy looks correct! Congratulations, you've finished the project.</div>"
            ],
            "text/plain": [
              "<IPython.core.display.HTML object>"
            ]
          },
          "metadata": {},
          "execution_count": 21
        }
      ]
    },
    {
      "cell_type": "markdown",
      "metadata": {
        "id": "u4t7-IXl8Rz6"
      },
      "source": [
        "### Example Decoding Sequences with the HMM Tagger"
      ]
    },
    {
      "cell_type": "code",
      "metadata": {
        "id": "Ta2Vj7kj8Rz7",
        "colab": {
          "base_uri": "https://localhost:8080/"
        },
        "outputId": "49a02c56-2b25-4bde-c837-89ee00dbb9c3"
      },
      "source": [
        "for key in data.testing_set.keys[:3]:\n",
        "    print(\"Sentence Key: {}\\n\".format(key))\n",
        "    print(\"Predicted labels:\\n-----------------\")\n",
        "    print(simplify_decoding(data.sentences[key].words, basic_model))\n",
        "    print()\n",
        "    print(\"Actual labels:\\n--------------\")\n",
        "    print(data.sentences[key].tags)\n",
        "    print(\"\\n\")"
      ],
      "execution_count": 22,
      "outputs": [
        {
          "output_type": "stream",
          "name": "stdout",
          "text": [
            "Sentence Key: b100-28144\n",
            "\n",
            "Predicted labels:\n",
            "-----------------\n",
            "['CONJ', 'NOUN', 'NUM', '.', 'NOUN', 'NUM', '.', 'NOUN', 'NUM', '.', 'CONJ', 'NOUN', 'NUM', '.', '.', 'NOUN', '.', '.']\n",
            "\n",
            "Actual labels:\n",
            "--------------\n",
            "('CONJ', 'NOUN', 'NUM', '.', 'NOUN', 'NUM', '.', 'NOUN', 'NUM', '.', 'CONJ', 'NOUN', 'NUM', '.', '.', 'NOUN', '.', '.')\n",
            "\n",
            "\n",
            "Sentence Key: b100-23146\n",
            "\n",
            "Predicted labels:\n",
            "-----------------\n",
            "['PRON', 'VERB', 'DET', 'NOUN', 'ADP', 'ADJ', 'ADJ', 'NOUN', 'VERB', 'VERB', '.', 'ADP', 'VERB', 'DET', 'NOUN', 'ADP', 'NOUN', 'ADP', 'DET', 'NOUN', '.']\n",
            "\n",
            "Actual labels:\n",
            "--------------\n",
            "('PRON', 'VERB', 'DET', 'NOUN', 'ADP', 'ADJ', 'ADJ', 'NOUN', 'VERB', 'VERB', '.', 'ADP', 'VERB', 'DET', 'NOUN', 'ADP', 'NOUN', 'ADP', 'DET', 'NOUN', '.')\n",
            "\n",
            "\n",
            "Sentence Key: b100-35462\n",
            "\n",
            "Predicted labels:\n",
            "-----------------\n",
            "['DET', 'ADJ', 'NOUN', 'VERB', 'VERB', 'VERB', 'ADP', 'DET', 'ADJ', 'ADJ', 'NOUN', 'ADP', 'DET', 'ADJ', 'NOUN', '.', 'ADP', 'ADJ', 'NOUN', '.', 'CONJ', 'ADP', 'DET', 'NOUN', 'ADP', 'ADJ', 'ADJ', '.', 'ADJ', '.', 'CONJ', 'ADJ', 'NOUN', 'ADP', 'ADJ', 'NOUN', '.']\n",
            "\n",
            "Actual labels:\n",
            "--------------\n",
            "('DET', 'ADJ', 'NOUN', 'VERB', 'VERB', 'VERB', 'ADP', 'DET', 'ADJ', 'ADJ', 'NOUN', 'ADP', 'DET', 'ADJ', 'NOUN', '.', 'ADP', 'ADJ', 'NOUN', '.', 'CONJ', 'ADP', 'DET', 'NOUN', 'ADP', 'ADJ', 'ADJ', '.', 'ADJ', '.', 'CONJ', 'ADJ', 'NOUN', 'ADP', 'ADJ', 'NOUN', '.')\n",
            "\n",
            "\n"
          ]
        }
      ]
    },
    {
      "cell_type": "markdown",
      "metadata": {
        "id": "dRFPgWLG8Rz7"
      },
      "source": [
        "## Step 4: [Optional] Improving model performance\n",
        "---\n",
        "There are additional enhancements that can be incorporated into your tagger that improve performance on larger tagsets where the data sparsity problem is more significant. The data sparsity problem arises because the same amount of data split over more tags means there will be fewer samples in each tag, and there will be more missing data  tags that have zero occurrences in the data. The techniques in this section are optional.\n",
        "\n",
        "- [Laplace Smoothing](https://en.wikipedia.org/wiki/Additive_smoothing) (pseudocounts)\n",
        "    Laplace smoothing is a technique where you add a small, non-zero value to all observed counts to offset for unobserved values.\n",
        "\n",
        "- Backoff Smoothing\n",
        "    Another smoothing technique is to interpolate between n-grams for missing data. This method is more effective than Laplace smoothing at combatting the data sparsity problem. Refer to chapters 4, 9, and 10 of the [Speech & Language Processing](https://web.stanford.edu/~jurafsky/slp3/) book for more information.\n",
        "\n",
        "- Extending to Trigrams\n",
        "    HMM taggers have achieved better than 96% accuracy on this dataset with the full Penn treebank tagset using an architecture described in [this](http://www.coli.uni-saarland.de/~thorsten/publications/Brants-ANLP00.pdf) paper. Altering your HMM to achieve the same performance would require implementing deleted interpolation (described in the paper), incorporating trigram probabilities in your frequency tables, and re-implementing the Viterbi algorithm to consider three consecutive states instead of two."
      ]
    }
  ]
}